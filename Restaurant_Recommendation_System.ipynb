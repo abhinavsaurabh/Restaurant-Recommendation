{
  "nbformat": 4,
  "nbformat_minor": 0,
  "metadata": {
    "colab": {
      "name": "Restaurant Recommendation System.ipynb",
      "provenance": [],
      "collapsed_sections": [],
      "toc_visible": true,
      "machine_shape": "hm"
    },
    "kernelspec": {
      "name": "python3",
      "display_name": "Python 3"
    }
  },
  "cells": [
    {
      "cell_type": "code",
      "metadata": {
        "collapsed": true,
        "jupyter": {
          "outputs_hidden": true
        },
        "id": "VolgwQN_PzWl"
      },
      "source": [
        "import pandas as pd\n",
        "from six.moves import cPickle\n",
        "import numpy as np\n",
        "from scipy.sparse import csr_matrix\n",
        "from sklearn.decomposition import TruncatedSVD\n",
        "from scipy.sparse.linalg import svds\n",
        "import matplotlib.pyplot as plt\n",
        "from sklearn.metrics import mean_squared_error\n",
        "%matplotlib inline\n",
        "import warnings\n",
        "warnings.filterwarnings('ignore')"
      ],
      "execution_count": null,
      "outputs": []
    },
    {
      "cell_type": "markdown",
      "metadata": {
        "id": "nHPY1eZVPzWw"
      },
      "source": [
        "# 1. Data Loading"
      ]
    },
    {
      "cell_type": "markdown",
      "metadata": {
        "id": "9hoY1EJpPzWx"
      },
      "source": [
        "Loading the review data file and business file"
      ]
    },
    {
      "cell_type": "code",
      "metadata": {
        "collapsed": true,
        "jupyter": {
          "outputs_hidden": true
        },
        "id": "b8zTJNaOPzWx"
      },
      "source": [
        "df_full = pd.read_csv('/content/drive/MyDrive/CF Project yelp/CSV/review.csv')"
      ],
      "execution_count": null,
      "outputs": []
    },
    {
      "cell_type": "code",
      "metadata": {
        "scrolled": true,
        "colab": {
          "base_uri": "https://localhost:8080/",
          "height": 306
        },
        "id": "0HO01rk4PzWy",
        "outputId": "641bd501-412e-4e1e-af86-fccbcb45576b"
      },
      "source": [
        "df_full.head()"
      ],
      "execution_count": null,
      "outputs": [
        {
          "output_type": "execute_result",
          "data": {
            "text/html": [
              "<div>\n",
              "<style scoped>\n",
              "    .dataframe tbody tr th:only-of-type {\n",
              "        vertical-align: middle;\n",
              "    }\n",
              "\n",
              "    .dataframe tbody tr th {\n",
              "        vertical-align: top;\n",
              "    }\n",
              "\n",
              "    .dataframe thead th {\n",
              "        text-align: right;\n",
              "    }\n",
              "</style>\n",
              "<table border=\"1\" class=\"dataframe\">\n",
              "  <thead>\n",
              "    <tr style=\"text-align: right;\">\n",
              "      <th></th>\n",
              "      <th>Unnamed: 0</th>\n",
              "      <th>review_id</th>\n",
              "      <th>business_id</th>\n",
              "      <th>user_id</th>\n",
              "      <th>stars</th>\n",
              "      <th>useful</th>\n",
              "      <th>funny</th>\n",
              "      <th>cool</th>\n",
              "      <th>text</th>\n",
              "      <th>date</th>\n",
              "    </tr>\n",
              "  </thead>\n",
              "  <tbody>\n",
              "    <tr>\n",
              "      <th>0</th>\n",
              "      <td>0</td>\n",
              "      <td>lWC-xP3rd6obsecCYsGZRg</td>\n",
              "      <td>buF9druCkbuXLX526sGELQ</td>\n",
              "      <td>ak0TdVmGKo4pwqdJSTLwWw</td>\n",
              "      <td>4.0</td>\n",
              "      <td>3</td>\n",
              "      <td>1</td>\n",
              "      <td>1</td>\n",
              "      <td>Apparently Prides Osteria had a rough summer a...</td>\n",
              "      <td>2014-10-11 03:34:02</td>\n",
              "    </tr>\n",
              "    <tr>\n",
              "      <th>1</th>\n",
              "      <td>1</td>\n",
              "      <td>8bFej1QE5LXp4O05qjGqXA</td>\n",
              "      <td>RA4V8pr014UyUbDvI-LW2A</td>\n",
              "      <td>YoVfDbnISlW0f7abNQACIg</td>\n",
              "      <td>4.0</td>\n",
              "      <td>1</td>\n",
              "      <td>0</td>\n",
              "      <td>0</td>\n",
              "      <td>This store is pretty good. Not as great as Wal...</td>\n",
              "      <td>2015-07-03 20:38:25</td>\n",
              "    </tr>\n",
              "    <tr>\n",
              "      <th>2</th>\n",
              "      <td>2</td>\n",
              "      <td>NDhkzczKjLshODbqDoNLSg</td>\n",
              "      <td>_sS2LBIGNT5NQb6PD1Vtjw</td>\n",
              "      <td>eC5evKn1TWDyHCyQAwguUw</td>\n",
              "      <td>5.0</td>\n",
              "      <td>0</td>\n",
              "      <td>0</td>\n",
              "      <td>0</td>\n",
              "      <td>I called WVM on the recommendation of a couple...</td>\n",
              "      <td>2013-05-28 20:38:06</td>\n",
              "    </tr>\n",
              "    <tr>\n",
              "      <th>3</th>\n",
              "      <td>3</td>\n",
              "      <td>T5fAqjjFooT4V0OeZyuk1w</td>\n",
              "      <td>0AzLzHfOJgL7ROwhdww2ew</td>\n",
              "      <td>SFQ1jcnGguO0LYWnbbftAA</td>\n",
              "      <td>2.0</td>\n",
              "      <td>1</td>\n",
              "      <td>1</td>\n",
              "      <td>1</td>\n",
              "      <td>I've stayed at many Marriott and Renaissance M...</td>\n",
              "      <td>2010-01-08 02:29:15</td>\n",
              "    </tr>\n",
              "    <tr>\n",
              "      <th>4</th>\n",
              "      <td>4</td>\n",
              "      <td>sjm_uUcQVxab_EeLCqsYLg</td>\n",
              "      <td>8zehGz9jnxPqXtOc7KaJxA</td>\n",
              "      <td>0kA0PAJ8QFMeveQWHFqz2A</td>\n",
              "      <td>4.0</td>\n",
              "      <td>0</td>\n",
              "      <td>0</td>\n",
              "      <td>0</td>\n",
              "      <td>The food is always great here. The service fro...</td>\n",
              "      <td>2011-07-28 18:05:01</td>\n",
              "    </tr>\n",
              "  </tbody>\n",
              "</table>\n",
              "</div>"
            ],
            "text/plain": [
              "   Unnamed: 0  ...                 date\n",
              "0           0  ...  2014-10-11 03:34:02\n",
              "1           1  ...  2015-07-03 20:38:25\n",
              "2           2  ...  2013-05-28 20:38:06\n",
              "3           3  ...  2010-01-08 02:29:15\n",
              "4           4  ...  2011-07-28 18:05:01\n",
              "\n",
              "[5 rows x 10 columns]"
            ]
          },
          "metadata": {
            "tags": []
          },
          "execution_count": 6
        }
      ]
    },
    {
      "cell_type": "code",
      "metadata": {
        "id": "KeyJU5WPn1jF"
      },
      "source": [
        "df_full.drop(\"Unnamed: 0\",inplace=True,axis=1)"
      ],
      "execution_count": null,
      "outputs": []
    },
    {
      "cell_type": "code",
      "metadata": {
        "id": "HOJpBuN1bOWk"
      },
      "source": [
        "df_full.columns = (df_full.columns.str.strip().str.lower()\n",
        "              .str.replace(' ', '_')\n",
        "              .str.replace('(', '')\n",
        "              .str.replace(')', ''))"
      ],
      "execution_count": null,
      "outputs": []
    },
    {
      "cell_type": "code",
      "metadata": {
        "id": "J1V_EjBRPzWz"
      },
      "source": [
        "df_bus = pd.read_csv('/content/drive/MyDrive/CF Project yelp/CSV/business.csv')"
      ],
      "execution_count": null,
      "outputs": []
    },
    {
      "cell_type": "code",
      "metadata": {
        "colab": {
          "base_uri": "https://localhost:8080/"
        },
        "id": "GVgcWJhoPzW1",
        "outputId": "3da33999-ff7b-4623-e4c4-294aa8501576"
      },
      "source": [
        "print(\"Columns in business data file are:\")\n",
        "for i in df_bus.columns:\n",
        "    print(i)"
      ],
      "execution_count": null,
      "outputs": [
        {
          "output_type": "stream",
          "text": [
            "Columns in business data file are:\n",
            "Unnamed: 0\n",
            "business_id \n",
            "name\n",
            "city\n",
            "state\n",
            "stars\n",
            "review_count\n",
            "categories\n",
            "latitude\n",
            "longitude\n",
            "is_open\n",
            "postal_code\n"
          ],
          "name": "stdout"
        }
      ]
    },
    {
      "cell_type": "code",
      "metadata": {
        "id": "ZyvJK2FlZiCU"
      },
      "source": [
        "df_bus.drop(\"Unnamed: 0\",inplace=True,axis=1)"
      ],
      "execution_count": null,
      "outputs": []
    },
    {
      "cell_type": "code",
      "metadata": {
        "id": "IZCp1Qr0aTBz"
      },
      "source": [
        "df_bus.columns = (df_bus.columns.str.strip().str.lower()\n",
        "              .str.replace(' ', '_')\n",
        "              .str.replace('(', '')\n",
        "              .str.replace(')', ''))"
      ],
      "execution_count": null,
      "outputs": []
    },
    {
      "cell_type": "code",
      "metadata": {
        "colab": {
          "base_uri": "https://localhost:8080/",
          "height": 289
        },
        "id": "qUx01uW3ZzVn",
        "outputId": "cb3d9d81-a8d4-4b3f-a901-822e3166e109"
      },
      "source": [
        "df_bus.head()"
      ],
      "execution_count": null,
      "outputs": [
        {
          "output_type": "execute_result",
          "data": {
            "text/html": [
              "<div>\n",
              "<style scoped>\n",
              "    .dataframe tbody tr th:only-of-type {\n",
              "        vertical-align: middle;\n",
              "    }\n",
              "\n",
              "    .dataframe tbody tr th {\n",
              "        vertical-align: top;\n",
              "    }\n",
              "\n",
              "    .dataframe thead th {\n",
              "        text-align: right;\n",
              "    }\n",
              "</style>\n",
              "<table border=\"1\" class=\"dataframe\">\n",
              "  <thead>\n",
              "    <tr style=\"text-align: right;\">\n",
              "      <th></th>\n",
              "      <th>business_id</th>\n",
              "      <th>name</th>\n",
              "      <th>city</th>\n",
              "      <th>state</th>\n",
              "      <th>stars</th>\n",
              "      <th>review_count</th>\n",
              "      <th>categories</th>\n",
              "      <th>latitude</th>\n",
              "      <th>longitude</th>\n",
              "      <th>is_open</th>\n",
              "      <th>postal_code</th>\n",
              "    </tr>\n",
              "  </thead>\n",
              "  <tbody>\n",
              "    <tr>\n",
              "      <th>0</th>\n",
              "      <td>6iYb2HFDywm3zjuRg0shjw</td>\n",
              "      <td>Oskar Blues Taproom</td>\n",
              "      <td>Boulder</td>\n",
              "      <td>CO</td>\n",
              "      <td>4.0</td>\n",
              "      <td>86</td>\n",
              "      <td>Gastropubs, Food, Beer Gardens, Restaurants, B...</td>\n",
              "      <td>40.017544</td>\n",
              "      <td>-105.283348</td>\n",
              "      <td>1</td>\n",
              "      <td>80302</td>\n",
              "    </tr>\n",
              "    <tr>\n",
              "      <th>1</th>\n",
              "      <td>tCbdrRPZA0oiIYSmHG3J0w</td>\n",
              "      <td>Flying Elephants at PDX</td>\n",
              "      <td>Portland</td>\n",
              "      <td>OR</td>\n",
              "      <td>4.0</td>\n",
              "      <td>126</td>\n",
              "      <td>Salad, Soup, Sandwiches, Delis, Restaurants, C...</td>\n",
              "      <td>45.588906</td>\n",
              "      <td>-122.593331</td>\n",
              "      <td>1</td>\n",
              "      <td>97218</td>\n",
              "    </tr>\n",
              "    <tr>\n",
              "      <th>2</th>\n",
              "      <td>bvN78flM8NLprQ1a1y5dRg</td>\n",
              "      <td>The Reclaimory</td>\n",
              "      <td>Portland</td>\n",
              "      <td>OR</td>\n",
              "      <td>4.5</td>\n",
              "      <td>13</td>\n",
              "      <td>Antiques, Fashion, Used, Vintage &amp; Consignment...</td>\n",
              "      <td>45.511907</td>\n",
              "      <td>-122.613693</td>\n",
              "      <td>1</td>\n",
              "      <td>97214</td>\n",
              "    </tr>\n",
              "    <tr>\n",
              "      <th>3</th>\n",
              "      <td>oaepsyvc0J17qwi8cfrOWg</td>\n",
              "      <td>Great Clips</td>\n",
              "      <td>Orange City</td>\n",
              "      <td>FL</td>\n",
              "      <td>3.0</td>\n",
              "      <td>8</td>\n",
              "      <td>Beauty &amp; Spas, Hair Salons</td>\n",
              "      <td>28.914482</td>\n",
              "      <td>-81.295979</td>\n",
              "      <td>1</td>\n",
              "      <td>32763</td>\n",
              "    </tr>\n",
              "    <tr>\n",
              "      <th>4</th>\n",
              "      <td>PE9uqAjdw0E4-8mjGl3wVA</td>\n",
              "      <td>Crossfit Terminus</td>\n",
              "      <td>Atlanta</td>\n",
              "      <td>GA</td>\n",
              "      <td>4.0</td>\n",
              "      <td>14</td>\n",
              "      <td>Gyms, Active Life, Interval Training Gyms, Fit...</td>\n",
              "      <td>33.747027</td>\n",
              "      <td>-84.353424</td>\n",
              "      <td>1</td>\n",
              "      <td>30316</td>\n",
              "    </tr>\n",
              "  </tbody>\n",
              "</table>\n",
              "</div>"
            ],
            "text/plain": [
              "              business_id                     name  ... is_open postal_code\n",
              "0  6iYb2HFDywm3zjuRg0shjw      Oskar Blues Taproom  ...       1       80302\n",
              "1  tCbdrRPZA0oiIYSmHG3J0w  Flying Elephants at PDX  ...       1       97218\n",
              "2  bvN78flM8NLprQ1a1y5dRg           The Reclaimory  ...       1       97214\n",
              "3  oaepsyvc0J17qwi8cfrOWg              Great Clips  ...       1       32763\n",
              "4  PE9uqAjdw0E4-8mjGl3wVA        Crossfit Terminus  ...       1       30316\n",
              "\n",
              "[5 rows x 11 columns]"
            ]
          },
          "metadata": {
            "tags": []
          },
          "execution_count": 13
        }
      ]
    },
    {
      "cell_type": "markdown",
      "metadata": {
        "id": "mJiUK_cnPzW2"
      },
      "source": [
        "# 2. Data Exploration, Data Cleaning and Matrix Building "
      ]
    },
    {
      "cell_type": "markdown",
      "metadata": {
        "id": "FPxVnHavPzW2"
      },
      "source": [
        "## 2.a. Number of businesses in each city:"
      ]
    },
    {
      "cell_type": "code",
      "metadata": {
        "colab": {
          "base_uri": "https://localhost:8080/",
          "height": 380
        },
        "id": "iXYBuP90PzW3",
        "outputId": "465cfa2b-cb97-4fc3-8367-acc9f645ca41"
      },
      "source": [
        "df_bus_groups = df_bus.groupby('city').count()\n",
        "df_bus_city = df_bus_groups['name']\n",
        "df_bus_city_sorted = df_bus_city.sort_values(ascending = False)\n",
        "df_bus_city_sorted[:30].plot(kind = 'bar')"
      ],
      "execution_count": null,
      "outputs": [
        {
          "output_type": "execute_result",
          "data": {
            "text/plain": [
              "<matplotlib.axes._subplots.AxesSubplot at 0x7fadf3e4fd10>"
            ]
          },
          "metadata": {
            "tags": []
          },
          "execution_count": 14
        },
        {
          "output_type": "display_data",
          "data": {
            "image/png": "[encoded data removed]",
            "text/plain": [
              "<Figure size 432x288 with 1 Axes>"
            ]
          },
          "metadata": {
            "tags": [],
            "needs_background": "light"
          }
        }
      ]
    },
    {
      "cell_type": "markdown",
      "metadata": {
        "id": "OTAT49cNPzW3"
      },
      "source": [
        "## 2.b. Different Type of Businesses and their Count:"
      ]
    },
    {
      "cell_type": "code",
      "metadata": {
        "colab": {
          "base_uri": "https://localhost:8080/",
          "height": 408
        },
        "id": "52nAfP0DPzW4",
        "outputId": "c915a844-9565-44a9-c412-201601cdc959"
      },
      "source": [
        "uniq_cat_dict = {}\n",
        "for i in df_bus.categories:\n",
        "    cat = str(i).split(',')\n",
        "    for j in cat:\n",
        "        if j not in uniq_cat_dict.keys():\n",
        "            uniq_cat_dict[j] = 1\n",
        "        else:\n",
        "            uniq_cat_dict[j] += 1\n",
        "uniq_cat_series = pd.Series(uniq_cat_dict)\n",
        "uniq_cat_series.sort_values(ascending = False, inplace = True)\n",
        "uniq_cat_series[:30].plot(kind = 'bar')"
      ],
      "execution_count": null,
      "outputs": [
        {
          "output_type": "execute_result",
          "data": {
            "text/plain": [
              "<matplotlib.axes._subplots.AxesSubplot at 0x7fad14033490>"
            ]
          },
          "metadata": {
            "tags": []
          },
          "execution_count": 15
        },
        {
          "output_type": "display_data",
          "data": {
            "image/png": "[encoded data removed]",
            "text/plain": [
              "<Figure size 432x288 with 1 Axes>"
            ]
          },
          "metadata": {
            "tags": [],
            "needs_background": "light"
          }
        }
      ]
    },
    {
      "cell_type": "markdown",
      "metadata": {
        "id": "gwp-fx_LPzW4"
      },
      "source": [
        "## 2.c. Business and City Ordered pairs and their count:"
      ]
    },
    {
      "cell_type": "code",
      "metadata": {
        "colab": {
          "base_uri": "https://localhost:8080/",
          "height": 452
        },
        "id": "-6Uy8Oz9PzW5",
        "outputId": "f9ba53fc-69fe-4f0a-a3cb-b7bd5cc52f5a"
      },
      "source": [
        "business_city = {}\n",
        "n = len(df_bus)\n",
        "for i in range(n):\n",
        "    k1 = str(df_bus.categories.iloc[i]).split(',')\n",
        "    k2 = df_bus.city.iloc[i]\n",
        "    for j in k1:\n",
        "        k = (j,k2)\n",
        "        if k not in business_city.keys():\n",
        "            business_city[k] = 1\n",
        "        else:\n",
        "            business_city[k] += 1\n",
        "business_city_series = pd.Series(business_city)\n",
        "business_city_series.sort_values(ascending = False, inplace = True)\n",
        "business_city_series[:30].plot(kind = 'bar')"
      ],
      "execution_count": null,
      "outputs": [
        {
          "output_type": "execute_result",
          "data": {
            "text/plain": [
              "<matplotlib.axes._subplots.AxesSubplot at 0x7fad13a83e10>"
            ]
          },
          "metadata": {
            "tags": []
          },
          "execution_count": 16
        },
        {
          "output_type": "display_data",
          "data": {
            "image/png": "[encoded data removed]",
            "text/plain": [
              "<Figure size 432x288 with 1 Axes>"
            ]
          },
          "metadata": {
            "tags": [],
            "needs_background": "light"
          }
        }
      ]
    },
    {
      "cell_type": "markdown",
      "metadata": {
        "id": "8xXomWNVPzW5"
      },
      "source": [
        "## Inferences from 2.a, 2.b and 2.c"
      ]
    },
    {
      "cell_type": "markdown",
      "metadata": {
        "id": "Z7roxG6DPzW6"
      },
      "source": [
        "It can be seen that most of the businesses listed on the Yelp are Restaurants, Shopping places and Recreational Centers. For this given data set (obtained from Yelp's Website), top cities with maximum businesses are Portland, Austin, and Vancuover."
      ]
    },
    {
      "cell_type": "markdown",
      "metadata": {
        "id": "cesiiQthPzW6"
      },
      "source": [
        "## 2.d. Cleaning the review data"
      ]
    },
    {
      "cell_type": "markdown",
      "metadata": {
        "id": "lbHhJmEvPzW6"
      },
      "source": [
        "Dropping the unwanted columns like 'text': review text, 'useful': Number of people rated it useful, 'date',etc.\n",
        "The columns left are 'user_id', 'business_id' and 'stars'."
      ]
    },
    {
      "cell_type": "code",
      "metadata": {
        "colab": {
          "base_uri": "https://localhost:8080/",
          "height": 202
        },
        "id": "BrZA7Vl-PzW6",
        "outputId": "7a3bc02c-28da-4631-9478-aaba526fbf0f"
      },
      "source": [
        "df_reduced = df_full.drop(['text','useful','cool', 'date', 'funny'], axis = 1)\n",
        "df_reduced.head()"
      ],
      "execution_count": null,
      "outputs": [
        {
          "output_type": "execute_result",
          "data": {
            "text/html": [
              "<div>\n",
              "<style scoped>\n",
              "    .dataframe tbody tr th:only-of-type {\n",
              "        vertical-align: middle;\n",
              "    }\n",
              "\n",
              "    .dataframe tbody tr th {\n",
              "        vertical-align: top;\n",
              "    }\n",
              "\n",
              "    .dataframe thead th {\n",
              "        text-align: right;\n",
              "    }\n",
              "</style>\n",
              "<table border=\"1\" class=\"dataframe\">\n",
              "  <thead>\n",
              "    <tr style=\"text-align: right;\">\n",
              "      <th></th>\n",
              "      <th>review_id</th>\n",
              "      <th>business_id</th>\n",
              "      <th>user_id</th>\n",
              "      <th>stars</th>\n",
              "    </tr>\n",
              "  </thead>\n",
              "  <tbody>\n",
              "    <tr>\n",
              "      <th>0</th>\n",
              "      <td>lWC-xP3rd6obsecCYsGZRg</td>\n",
              "      <td>buF9druCkbuXLX526sGELQ</td>\n",
              "      <td>ak0TdVmGKo4pwqdJSTLwWw</td>\n",
              "      <td>4.0</td>\n",
              "    </tr>\n",
              "    <tr>\n",
              "      <th>1</th>\n",
              "      <td>8bFej1QE5LXp4O05qjGqXA</td>\n",
              "      <td>RA4V8pr014UyUbDvI-LW2A</td>\n",
              "      <td>YoVfDbnISlW0f7abNQACIg</td>\n",
              "      <td>4.0</td>\n",
              "    </tr>\n",
              "    <tr>\n",
              "      <th>2</th>\n",
              "      <td>NDhkzczKjLshODbqDoNLSg</td>\n",
              "      <td>_sS2LBIGNT5NQb6PD1Vtjw</td>\n",
              "      <td>eC5evKn1TWDyHCyQAwguUw</td>\n",
              "      <td>5.0</td>\n",
              "    </tr>\n",
              "    <tr>\n",
              "      <th>3</th>\n",
              "      <td>T5fAqjjFooT4V0OeZyuk1w</td>\n",
              "      <td>0AzLzHfOJgL7ROwhdww2ew</td>\n",
              "      <td>SFQ1jcnGguO0LYWnbbftAA</td>\n",
              "      <td>2.0</td>\n",
              "    </tr>\n",
              "    <tr>\n",
              "      <th>4</th>\n",
              "      <td>sjm_uUcQVxab_EeLCqsYLg</td>\n",
              "      <td>8zehGz9jnxPqXtOc7KaJxA</td>\n",
              "      <td>0kA0PAJ8QFMeveQWHFqz2A</td>\n",
              "      <td>4.0</td>\n",
              "    </tr>\n",
              "  </tbody>\n",
              "</table>\n",
              "</div>"
            ],
            "text/plain": [
              "                review_id  ... stars\n",
              "0  lWC-xP3rd6obsecCYsGZRg  ...   4.0\n",
              "1  8bFej1QE5LXp4O05qjGqXA  ...   4.0\n",
              "2  NDhkzczKjLshODbqDoNLSg  ...   5.0\n",
              "3  T5fAqjjFooT4V0OeZyuk1w  ...   2.0\n",
              "4  sjm_uUcQVxab_EeLCqsYLg  ...   4.0\n",
              "\n",
              "[5 rows x 4 columns]"
            ]
          },
          "metadata": {
            "tags": []
          },
          "execution_count": 17
        }
      ]
    },
    {
      "cell_type": "markdown",
      "metadata": {
        "id": "Zz2ujz0TPzW7"
      },
      "source": [
        "## 2.e. Merging the business data with the review data"
      ]
    },
    {
      "cell_type": "markdown",
      "metadata": {
        "id": "632BzWxHPzW7"
      },
      "source": [
        "Merging the business data and the review data on the 'business_id'. Information like 'city' of the business and 'categories' of the business were taken from the business data file."
      ]
    },
    {
      "cell_type": "code",
      "metadata": {
        "scrolled": true,
        "colab": {
          "base_uri": "https://localhost:8080/",
          "height": 202
        },
        "id": "VLf926PdPzW7",
        "outputId": "b39aa857-c9ae-4620-9a92-201a09905762"
      },
      "source": [
        "df_merged = df_reduced.merge(df_bus[['city','categories', 'business_id']], how = 'outer', on= 'business_id')\n",
        "df_merged.head()"
      ],
      "execution_count": null,
      "outputs": [
        {
          "output_type": "execute_result",
          "data": {
            "text/html": [
              "<div>\n",
              "<style scoped>\n",
              "    .dataframe tbody tr th:only-of-type {\n",
              "        vertical-align: middle;\n",
              "    }\n",
              "\n",
              "    .dataframe tbody tr th {\n",
              "        vertical-align: top;\n",
              "    }\n",
              "\n",
              "    .dataframe thead th {\n",
              "        text-align: right;\n",
              "    }\n",
              "</style>\n",
              "<table border=\"1\" class=\"dataframe\">\n",
              "  <thead>\n",
              "    <tr style=\"text-align: right;\">\n",
              "      <th></th>\n",
              "      <th>review_id</th>\n",
              "      <th>business_id</th>\n",
              "      <th>user_id</th>\n",
              "      <th>stars</th>\n",
              "      <th>city</th>\n",
              "      <th>categories</th>\n",
              "    </tr>\n",
              "  </thead>\n",
              "  <tbody>\n",
              "    <tr>\n",
              "      <th>0</th>\n",
              "      <td>lWC-xP3rd6obsecCYsGZRg</td>\n",
              "      <td>buF9druCkbuXLX526sGELQ</td>\n",
              "      <td>ak0TdVmGKo4pwqdJSTLwWw</td>\n",
              "      <td>4.0</td>\n",
              "      <td>Beverly</td>\n",
              "      <td>Restaurants, Wine Bars, Nightlife, Farmers Mar...</td>\n",
              "    </tr>\n",
              "    <tr>\n",
              "      <th>1</th>\n",
              "      <td>hpcZLEzqD4_gPi6eSVi_Bg</td>\n",
              "      <td>buF9druCkbuXLX526sGELQ</td>\n",
              "      <td>Y-j2svl0M_5-jF1ehYuNPQ</td>\n",
              "      <td>2.0</td>\n",
              "      <td>Beverly</td>\n",
              "      <td>Restaurants, Wine Bars, Nightlife, Farmers Mar...</td>\n",
              "    </tr>\n",
              "    <tr>\n",
              "      <th>2</th>\n",
              "      <td>3FvY1Se8y2WXqTbaANOqMw</td>\n",
              "      <td>buF9druCkbuXLX526sGELQ</td>\n",
              "      <td>xUCX4GhBpeWxZB0l2lmt_w</td>\n",
              "      <td>5.0</td>\n",
              "      <td>Beverly</td>\n",
              "      <td>Restaurants, Wine Bars, Nightlife, Farmers Mar...</td>\n",
              "    </tr>\n",
              "    <tr>\n",
              "      <th>3</th>\n",
              "      <td>C1uQNP2ehBktS43ZRMEvkg</td>\n",
              "      <td>buF9druCkbuXLX526sGELQ</td>\n",
              "      <td>2M6KFsWIUXElqcQRz4A0Qg</td>\n",
              "      <td>5.0</td>\n",
              "      <td>Beverly</td>\n",
              "      <td>Restaurants, Wine Bars, Nightlife, Farmers Mar...</td>\n",
              "    </tr>\n",
              "    <tr>\n",
              "      <th>4</th>\n",
              "      <td>Cja8_35_kQDnF9g4voikzw</td>\n",
              "      <td>buF9druCkbuXLX526sGELQ</td>\n",
              "      <td>t5SRIRU6INiAyVkiMJhRPA</td>\n",
              "      <td>1.0</td>\n",
              "      <td>Beverly</td>\n",
              "      <td>Restaurants, Wine Bars, Nightlife, Farmers Mar...</td>\n",
              "    </tr>\n",
              "  </tbody>\n",
              "</table>\n",
              "</div>"
            ],
            "text/plain": [
              "                review_id  ...                                         categories\n",
              "0  lWC-xP3rd6obsecCYsGZRg  ...  Restaurants, Wine Bars, Nightlife, Farmers Mar...\n",
              "1  hpcZLEzqD4_gPi6eSVi_Bg  ...  Restaurants, Wine Bars, Nightlife, Farmers Mar...\n",
              "2  3FvY1Se8y2WXqTbaANOqMw  ...  Restaurants, Wine Bars, Nightlife, Farmers Mar...\n",
              "3  C1uQNP2ehBktS43ZRMEvkg  ...  Restaurants, Wine Bars, Nightlife, Farmers Mar...\n",
              "4  Cja8_35_kQDnF9g4voikzw  ...  Restaurants, Wine Bars, Nightlife, Farmers Mar...\n",
              "\n",
              "[5 rows x 6 columns]"
            ]
          },
          "metadata": {
            "tags": []
          },
          "execution_count": 18
        }
      ]
    },
    {
      "cell_type": "code",
      "metadata": {
        "collapsed": true,
        "jupyter": {
          "outputs_hidden": true
        },
        "id": "b0ob-WYHPzW8"
      },
      "source": [
        "df_cleaned = df_merged.dropna()"
      ],
      "execution_count": null,
      "outputs": []
    },
    {
      "cell_type": "markdown",
      "metadata": {
        "id": "tEJZUrv3PzW8"
      },
      "source": [
        "## 2.f. Getting the top Business and City for which highest number of reviews are obtained"
      ]
    },
    {
      "cell_type": "code",
      "metadata": {
        "collapsed": true,
        "jupyter": {
          "outputs_hidden": true
        },
        "id": "hyNmMb1KPzW8"
      },
      "source": [
        "def topm_num_reviews_for_city_n_biz(df,m):\n",
        "    business_city_count = {}\n",
        "    n = len(df)\n",
        "    for i in range(n):\n",
        "        k1 = str(df.categories.iloc[i]).split(',')\n",
        "        k2 = df.city.iloc[i]\n",
        "        for j in k1:\n",
        "            k = (j,k2)\n",
        "            if k not in business_city_count.keys():\n",
        "                business_city_count[k] = 1\n",
        "            else:\n",
        "                business_city_count[k] += 1\n",
        "    business_city_count_series = pd.Series(business_city_count)\n",
        "    business_city_count_series.sort_values(ascending = False, inplace = True)\n",
        "    return business_city_count_series"
      ],
      "execution_count": null,
      "outputs": []
    },
    {
      "cell_type": "code",
      "metadata": {
        "scrolled": true,
        "colab": {
          "base_uri": "https://localhost:8080/",
          "height": 428
        },
        "id": "HbFVVBSuPzW8",
        "outputId": "b7b7c85d-0262-4ef4-e3c8-6da4c6a4b03e"
      },
      "source": [
        "review_business_city = topm_num_reviews_for_city_n_biz(df_cleaned,10)\n",
        "review_business_city[:30].plot(kind = 'bar')"
      ],
      "execution_count": null,
      "outputs": [
        {
          "output_type": "execute_result",
          "data": {
            "text/plain": [
              "<matplotlib.axes._subplots.AxesSubplot at 0x7fad10acfc90>"
            ]
          },
          "metadata": {
            "tags": []
          },
          "execution_count": 21
        },
        {
          "output_type": "display_data",
          "data": {
            "image/png": "[encoded data removed]",
            "text/plain": [
              "<Figure size 432x288 with 1 Axes>"
            ]
          },
          "metadata": {
            "tags": [],
            "needs_background": "light"
          }
        }
      ]
    },
    {
      "cell_type": "code",
      "metadata": {
        "colab": {
          "base_uri": "https://localhost:8080/"
        },
        "id": "fO-r35U4PzW9",
        "outputId": "d945dc25-3943-4e6a-ab0b-f9a2948456ca"
      },
      "source": [
        "rest_austin_reviews = df_cleaned[(df_cleaned.city == 'Austin') & (df_cleaned.categories.str.contains('.Restaurant.', case= False))]\n",
        "rest_austin_reviews.shape"
      ],
      "execution_count": null,
      "outputs": [
        {
          "output_type": "execute_result",
          "data": {
            "text/plain": [
              "(619340, 6)"
            ]
          },
          "metadata": {
            "tags": []
          },
          "execution_count": 22
        }
      ]
    },
    {
      "cell_type": "code",
      "metadata": {
        "colab": {
          "base_uri": "https://localhost:8080/"
        },
        "id": "yL7x_VB-PzW9",
        "outputId": "bdcc48c5-ddec-4ce0-ae3e-9a40940b28e9"
      },
      "source": [
        "rest_portland_reviews = df_cleaned[(df_cleaned.city == 'Portland') & (df_cleaned.categories.str.contains('.Restaurant.', case= False))]\n",
        "rest_portland_reviews.shape"
      ],
      "execution_count": null,
      "outputs": [
        {
          "output_type": "execute_result",
          "data": {
            "text/plain": [
              "(594339, 6)"
            ]
          },
          "metadata": {
            "tags": []
          },
          "execution_count": 23
        }
      ]
    },
    {
      "cell_type": "code",
      "metadata": {
        "collapsed": true,
        "jupyter": {
          "outputs_hidden": true
        },
        "id": "PQnk6hr5PzW9"
      },
      "source": [
        "def get_clean_df(df, min_user_review = 30, min_res_review = 0, cols = ['user_id', 'business_id', 'stars']):\n",
        "    '''Cleans the df and gets rid of the unwanted cols and also allows to filter the user and business based on the min number of reviews received'''\n",
        "    df_new = df[cols]\n",
        "    df_new.dropna(axis = 0, how = 'any', inplace = True)\n",
        "    df_new[cols[1]+'_freq'] = df_new.groupby(cols[1])[cols[1]].transform('count')\n",
        "    df_clean = df_new[df_new[cols[1]+'_freq']>=min_res_review]\n",
        "    df_clean[cols[0]+'_freq'] = df_clean.groupby(cols[0])[cols[0]].transform('count')\n",
        "    df_clean_2 = df_clean[df_clean[cols[0]+'_freq']>=min_user_review]\n",
        "    return df_clean_2"
      ],
      "execution_count": null,
      "outputs": []
    },
    {
      "cell_type": "code",
      "metadata": {
        "collapsed": true,
        "jupyter": {
          "outputs_hidden": true
        },
        "id": "h1Nyeb-YPzW-"
      },
      "source": [
        "def get_sparsity(sparse_matrix):\n",
        "    return 1 - sparse_matrix.nnz/(sparse_matrix.shape[0]*sparse_matrix.shape[1])"
      ],
      "execution_count": null,
      "outputs": []
    },
    {
      "cell_type": "code",
      "metadata": {
        "colab": {
          "base_uri": "https://localhost:8080/"
        },
        "id": "5lIM63CYPzW-",
        "outputId": "c4109540-1e1b-47be-b684-8f3c6686f658"
      },
      "source": [
        "u_20_austin = get_sparse_matrix(get_clean_df(rest_austin_reviews, min_user_review=20))\n",
        "u_30_portland = get_sparse_matrix(get_clean_df(rest_portland_reviews, min_user_review=30))\n",
        "print(get_sparsity(u_20_austin))\n",
        "print(get_sparsity(u_30_portland))\n",
        "print(u_20_austin.shape)\n",
        "print(u_30_portland.shape)"
      ],
      "execution_count": null,
      "outputs": [
        {
          "output_type": "stream",
          "text": [
            "0.9881749488056111\n",
            "0.9858682495542459\n",
            "(3697, 3561)\n",
            "(1710, 4126)\n"
          ],
          "name": "stdout"
        }
      ]
    },
    {
      "cell_type": "code",
      "metadata": {
        "colab": {
          "base_uri": "https://localhost:8080/"
        },
        "id": "51dgvmDiPzW_",
        "outputId": "b98cfad8-4d71-41e3-d275-9de0426ac5e3"
      },
      "source": [
        "user_min_10_austin_res = get_clean_df(rest_austin_reviews, min_user_review=10)\n",
        "print(\"Number of Reviews for Restaurants in Austin: \", user_min_10_austin_res.shape[0])\n",
        "user_min_10_portland_res = get_clean_df(rest_portland_reviews, min_user_review=10)\n",
        "print(\"Number of Reviews for Restaurants in Portland: \", user_min_10_portland_res.shape[0])"
      ],
      "execution_count": null,
      "outputs": [
        {
          "output_type": "stream",
          "text": [
            "Number of Reviews for Restaurants in Austin:  244787\n",
            "Number of Reviews for Restaurants in Portland:  216969\n"
          ],
          "name": "stdout"
        }
      ]
    },
    {
      "cell_type": "code",
      "metadata": {
        "colab": {
          "base_uri": "https://localhost:8080/"
        },
        "id": "ABOJgM7bPzW_",
        "outputId": "ccf9fc96-9a5c-456b-ddcf-f8a274cd56fd"
      },
      "source": [
        "print(\"Unique Restaurants in Austin =\",len(user_min_10_austin_res.business_id.unique()))\n",
        "print(\"Unique Users in Austin =\",len(user_min_10_austin_res.user_id.unique()))\n",
        "print(\"Unique Restaurants in Portland =\",len(user_min_10_portland_res.business_id.unique()))\n",
        "print(\"Unique Users in Portland =\",len(user_min_10_portland_res.user_id.unique()))"
      ],
      "execution_count": null,
      "outputs": [
        {
          "output_type": "stream",
          "text": [
            "Unique Restaurants in Austin = 3621\n",
            "Unique Users in Austin = 9666\n",
            "Unique Restaurants in Portland = 4273\n",
            "Unique Users in Portland = 8968\n"
          ],
          "name": "stdout"
        }
      ]
    },
    {
      "cell_type": "code",
      "metadata": {
        "collapsed": true,
        "jupyter": {
          "outputs_hidden": true
        },
        "id": "DX6R4EnyPzXA"
      },
      "source": [
        "from pandas.api.types import CategoricalDtype\n",
        "def get_sparse_matrix(df):\n",
        "    '''Converts the df into a sparse ratings matrix'''\n",
        "    unique_users = list(df['user_id'].unique())\n",
        "    unique_bus = list(df['business_id'].unique())\n",
        "    data = df['stars'].tolist()\n",
        "    cat_type = CategoricalDtype(categories=unique_users)\n",
        "    row = df['user_id'].astype(cat_type).cat.codes\n",
        "    cat_type2 = CategoricalDtype(categories=unique_bus)\n",
        "    col = df['business_id'].astype(cat_type2).cat.codes\n",
        "    sparse_matrix = csr_matrix((data, (row, col)), shape=(len(unique_users), len(unique_bus)))\n",
        "    return sparse_matrix"
      ],
      "execution_count": null,
      "outputs": []
    },
    {
      "cell_type": "code",
      "metadata": {
        "colab": {
          "base_uri": "https://localhost:8080/"
        },
        "id": "oXqR3j2yPzXA",
        "outputId": "228b04ee-f4f3-41ce-9502-ac9eb2b957a6"
      },
      "source": [
        "sm_user_10_austin_rest = get_sparse_matrix(user_min_10_austin_res)\n",
        "print(\"Shape of ratings matrix for Restaurants in Austria =\",sm_user_10_austin_rest.shape)\n",
        "sm_user_10_portland_rest = get_sparse_matrix(user_min_10_portland_res)\n",
        "print(\"Shape of ratings matrix for Restaurants in Portland =\",sm_user_10_portland_rest.shape)"
      ],
      "execution_count": null,
      "outputs": [
        {
          "output_type": "stream",
          "text": [
            "Shape of ratings matrix for Restaurants in Austria = (9666, 3621)\n",
            "Shape of ratings matrix for Restaurants in Portland = (8968, 4273)\n"
          ],
          "name": "stdout"
        }
      ]
    },
    {
      "cell_type": "code",
      "metadata": {
        "colab": {
          "base_uri": "https://localhost:8080/"
        },
        "id": "5UOQoxWbPzXB",
        "outputId": "16c87aaa-cc7a-4db8-c07e-a0f47aa60193"
      },
      "source": [
        "sparsity_austin = 1 - sm_user_10_austin_rest.nnz/(sm_user_10_austin_rest.shape[0]*sm_user_10_austin_rest.shape[1])\n",
        "sparsity_portland = 1 - sm_user_10_portland_rest.nnz/(sm_user_10_portland_rest.shape[0]*sm_user_10_portland_rest.shape[1])\n",
        "print(\"Sparsity of ratings matrix for Restaurants in Austin = \", sparsity_austin)\n",
        "print(\"Sparsity of ratings matrix for Restaurants in Portland = \", sparsity_portland)"
      ],
      "execution_count": null,
      "outputs": [
        {
          "output_type": "stream",
          "text": [
            "Sparsity of ratings matrix for Restaurants in Austin =  0.9933968534126829\n",
            "Sparsity of ratings matrix for Restaurants in Portland =  0.9946274378485492\n"
          ],
          "name": "stdout"
        }
      ]
    },
    {
      "cell_type": "code",
      "metadata": {
        "collapsed": true,
        "jupyter": {
          "outputs_hidden": true
        },
        "id": "nsOZ0cV3PzXB"
      },
      "source": [
        "def train_val_test_split(sparse_matrix, num_review_val = 2, num_review_test = 2):\n",
        "    '''Split the rating matrix into train ,val, and test marix that are disjoint matrices'''\n",
        "    nzrows, nzcols =  sparse_matrix.nonzero()\n",
        "    sparse_matrix_test = csr_matrix(sparse_matrix.shape)\n",
        "    sparse_matrix_val = csr_matrix(sparse_matrix.shape)\n",
        "    sparse_matrix_train = sparse_matrix.copy()\n",
        "    n_users = sparse_matrix.shape[0]\n",
        "    for u in range(n_users):\n",
        "        idx = nzcols[np.where(nzrows == u)]\n",
        "        np.random.shuffle(idx)\n",
        "        test_idx = idx[-num_review_test:]\n",
        "        val_idx = idx[-(num_review_val+num_review_test):-num_review_test]\n",
        "        train_idx = idx[:-(num_review_val+num_review_test)]\n",
        "        sparse_matrix_test[u,test_idx] = sparse_matrix[u,test_idx]\n",
        "        sparse_matrix_val[u,val_idx] = sparse_matrix[u,val_idx]\n",
        "        sparse_matrix_train[u,test_idx] = 0\n",
        "        sparse_matrix_train[u,val_idx] = 0\n",
        "    data = np.array(sparse_matrix_train[sparse_matrix_train.nonzero()])[0]\n",
        "    row = sparse_matrix_train.nonzero()[0]\n",
        "    col = sparse_matrix_train.nonzero()[1]\n",
        "    size = sparse_matrix_train.shape\n",
        "    sparse_matrix_train = csr_matrix((data,(row,col)),shape = size)\n",
        "    mult = sparse_matrix_train.multiply(sparse_matrix_val)\n",
        "    mmult = mult.multiply(sparse_matrix_test)\n",
        "    assert(mmult.nnz == 0)\n",
        "    return sparse_matrix_train, sparse_matrix_val, sparse_matrix_test"
      ],
      "execution_count": null,
      "outputs": []
    },
    {
      "cell_type": "code",
      "metadata": {
        "scrolled": true,
        "id": "oOERmZbpPzXB"
      },
      "source": [
        "sm_u_10_austin_res_train, sm_u_10_austin_res_val, sm_u_10_austin_res_test = train_val_test_split(sm_user_10_austin_rest)\n",
        "sm_u_10_portland_res_train, sm_u_10_portland_res_val, sm_u_10_portland_res_test =  train_val_test_split(sm_user_10_portland_rest)"
      ],
      "execution_count": null,
      "outputs": []
    },
    {
      "cell_type": "code",
      "metadata": {
        "colab": {
          "base_uri": "https://localhost:8080/"
        },
        "id": "NABszEa_PzXC",
        "outputId": "7ca391cf-cf70-4d73-848c-20e798f073ee"
      },
      "source": [
        "print(sm_u_10_austin_res_train.nnz, sm_u_10_austin_res_val.nnz, sm_u_10_austin_res_test.nnz)\n",
        "print(sm_u_10_portland_res_train.nnz, sm_u_10_portland_res_val.nnz, sm_u_10_portland_res_test.nnz)"
      ],
      "execution_count": null,
      "outputs": [
        {
          "output_type": "stream",
          "text": [
            "192454 19328 19332\n",
            "170008 17934 17936\n"
          ],
          "name": "stdout"
        }
      ]
    },
    {
      "cell_type": "code",
      "metadata": {
        "id": "1y1FrEYQPzXC"
      },
      "source": [
        "u_20_train, u_20_val, u_20_test = train_val_test_split(u_20_austin, num_review_val= 7, num_review_test= 3)"
      ],
      "execution_count": null,
      "outputs": []
    },
    {
      "cell_type": "markdown",
      "metadata": {
        "id": "ZXvwwOp2PzXC"
      },
      "source": [
        "# 3. Model Building:"
      ]
    },
    {
      "cell_type": "markdown",
      "metadata": {
        "id": "hXnrgV7APzXC"
      },
      "source": [
        "## 3.1 SVD"
      ]
    },
    {
      "cell_type": "markdown",
      "metadata": {
        "id": "iXT5XJg8PzXD"
      },
      "source": [
        "## For Restaurants in Austin"
      ]
    },
    {
      "cell_type": "code",
      "metadata": {
        "collapsed": true,
        "jupyter": {
          "outputs_hidden": true
        },
        "id": "CunNfeLJPzXD"
      },
      "source": [
        "U_austin_res, S_austin_res, Vt_austin_res = np.linalg.svd(sm_u_10_austin_res_train.todense())#k = min(sm_u_10_austin_res_train.shape)-1)"
      ],
      "execution_count": null,
      "outputs": []
    },
    {
      "cell_type": "code",
      "metadata": {
        "id": "-iJFPaNtPzXD",
        "colab": {
          "base_uri": "https://localhost:8080/"
        },
        "outputId": "1fa49728-2767-4f64-9b98-ccc6e5ba2c42"
      },
      "source": [
        "print(\"smallest singular value = \",min(S_austin_res))\n",
        "print(\"largest singular value = \",max(S_austin_res))\n",
        "S_austin_res_dia = np.diag(S_austin_res)"
      ],
      "execution_count": null,
      "outputs": [
        {
          "output_type": "stream",
          "text": [
            "smallest singular value =  1.6828708296355819e-15\n",
            "largest singular value =  415.825972133932\n"
          ],
          "name": "stdout"
        }
      ]
    },
    {
      "cell_type": "markdown",
      "metadata": {
        "id": "HHZ-dYK9PzXD"
      },
      "source": [
        "** Printing top 20 singular values**"
      ]
    },
    {
      "cell_type": "code",
      "metadata": {
        "id": "ieIWxB-1PzXD",
        "colab": {
          "base_uri": "https://localhost:8080/",
          "height": 350
        },
        "outputId": "50428dac-1070-4daf-fd9e-2f81a5f26c4a"
      },
      "source": [
        "fig = plt.figure(figsize=(8,5))\n",
        "plt.plot(S_austin_res[:20], '-', linewidth=1)\n",
        "plt.title('Elbow Plot')\n",
        "# plt.xticks(np.arange(0, S_austin_res.shape[0]+1, 50), rotation='vertical')\n",
        "plt.xlabel('Principal Component')\n",
        "plt.ylabel('Singular Values')\n",
        "plt.show()"
      ],
      "execution_count": null,
      "outputs": [
        {
          "output_type": "display_data",
          "data": {
            "image/png": "[encoded data removed]",
            "text/plain": [
              "<Figure size 576x360 with 1 Axes>"
            ]
          },
          "metadata": {
            "tags": [],
            "needs_background": "light"
          }
        }
      ]
    },
    {
      "cell_type": "markdown",
      "metadata": {
        "id": "71LuEaiHPzXE"
      },
      "source": [
        "## For Restaurants in Portland"
      ]
    },
    {
      "cell_type": "code",
      "metadata": {
        "collapsed": true,
        "jupyter": {
          "outputs_hidden": true
        },
        "id": "68cDDc2XPzXE"
      },
      "source": [
        "U_portland_res, S_portland_res, Vt_portland_res = np.linalg.svd(sm_u_10_portland_res_train.todense())#k = min(sm_u_10_austin_res_train.shape)-1)"
      ],
      "execution_count": null,
      "outputs": []
    },
    {
      "cell_type": "code",
      "metadata": {
        "id": "-ZrneWbqPzXE",
        "colab": {
          "base_uri": "https://localhost:8080/"
        },
        "outputId": "6bee2a42-0ec2-40a6-abb0-f9ea9bb43051"
      },
      "source": [
        "print(\"smallest singular value = \",min(S_portland_res))\n",
        "print(\"largest singular value = \",max(S_portland_res))\n",
        "S_portland_res_dia = np.diag(S_portland_res)"
      ],
      "execution_count": null,
      "outputs": [
        {
          "output_type": "stream",
          "text": [
            "smallest singular value =  1.9105243741165438e-15\n",
            "largest singular value =  384.2195955473826\n"
          ],
          "name": "stdout"
        }
      ]
    },
    {
      "cell_type": "markdown",
      "metadata": {
        "id": "nzKP-ShxPzXE"
      },
      "source": [
        "** Printing top 20 singular values**"
      ]
    },
    {
      "cell_type": "code",
      "metadata": {
        "id": "RT4njt64PzXF",
        "colab": {
          "base_uri": "https://localhost:8080/",
          "height": 350
        },
        "outputId": "4f12a32c-53ea-48ae-f9a7-8e0321ee0f9a"
      },
      "source": [
        "fig = plt.figure(figsize=(8,5))\n",
        "plt.plot(S_portland_res[:20], '-', linewidth=1)\n",
        "plt.title('Elbow Plot')\n",
        "# plt.xticks(np.arange(0, S_austin_res.shape[0]+1, 50), rotation='vertical')\n",
        "plt.xlabel('Principal Component')\n",
        "plt.ylabel('Singular Values')\n",
        "plt.show()"
      ],
      "execution_count": null,
      "outputs": [
        {
          "output_type": "display_data",
          "data": {
            "image/png": "[encoded data removed]",
            "text/plain": [
              "<Figure size 576x360 with 1 Axes>"
            ]
          },
          "metadata": {
            "tags": [],
            "needs_background": "light"
          }
        }
      ]
    },
    {
      "cell_type": "code",
      "metadata": {
        "collapsed": true,
        "jupyter": {
          "outputs_hidden": true
        },
        "id": "u7HpVcgzPzXF"
      },
      "source": [
        "def approx_err(k, A, U, S, Vt):\n",
        "    rec_A = np.dot(U[:, :k], np.dot(S[:k,:k], Vt[:k, :]))\n",
        "    idx = np.where(A>0);\n",
        "    diff = A[idx] - rec_A[idx]\n",
        "    return np.linalg.norm(diff)**2/diff.shape[1]"
      ],
      "execution_count": null,
      "outputs": []
    },
    {
      "cell_type": "markdown",
      "metadata": {
        "id": "qS27YljwPzXF"
      },
      "source": [
        "## For Restaurants in Austin"
      ]
    },
    {
      "cell_type": "code",
      "metadata": {
        "id": "h1p4Yt4nPzXF",
        "colab": {
          "base_uri": "https://localhost:8080/",
          "height": 296
        },
        "outputId": "4f0f40a7-0d3a-4cf5-9def-0df4d44783d0"
      },
      "source": [
        "k = np.linspace(2,40,20, dtype = int)\n",
        "errors_svd_val = {}\n",
        "errors_svd_train = {}\n",
        "for i in k:\n",
        "    errors_svd_val[i] = approx_err(i, sm_u_10_austin_res_val.todense(), U_austin_res, S_austin_res_dia, Vt_austin_res)\n",
        "    errors_svd_train[i] = approx_err(i, sm_u_10_austin_res_train.todense(), U_austin_res, S_austin_res_dia, Vt_austin_res)\n",
        "\n",
        "plt.plot(list(errors_svd_val.keys()),list(errors_svd_val.values()), label = 'Validation')\n",
        "plt.plot(list(errors_svd_train.keys()),list(errors_svd_train.values()), label = 'Train')\n",
        "plt.xlabel(\"k\")\n",
        "plt.ylabel(\"MSE\")\n",
        "plt.legend()"
      ],
      "execution_count": null,
      "outputs": [
        {
          "output_type": "execute_result",
          "data": {
            "text/plain": [
              "<matplotlib.legend.Legend at 0x7fad10efe7d0>"
            ]
          },
          "metadata": {
            "tags": []
          },
          "execution_count": 44
        },
        {
          "output_type": "display_data",
          "data": {
            "image/png": "[encoded data removed]",
            "text/plain": [
              "<Figure size 432x288 with 1 Axes>"
            ]
          },
          "metadata": {
            "tags": [],
            "needs_background": "light"
          }
        }
      ]
    },
    {
      "cell_type": "code",
      "metadata": {
        "id": "3BEz5jbIPzXG",
        "colab": {
          "base_uri": "https://localhost:8080/",
          "height": 296
        },
        "outputId": "0a6e6cc2-f646-4964-d5b0-298ba949a69f"
      },
      "source": [
        "##Separately plotting the Validation error\n",
        "plt.plot(list(errors_svd_val.keys()),list(errors_svd_val.values()), label = 'Validation')\n",
        "plt.xlabel('k')\n",
        "plt.ylabel('MSE')\n",
        "plt.legend()\n",
        "plt.legend()"
      ],
      "execution_count": null,
      "outputs": [
        {
          "output_type": "execute_result",
          "data": {
            "text/plain": [
              "<matplotlib.legend.Legend at 0x7fad10efed50>"
            ]
          },
          "metadata": {
            "tags": []
          },
          "execution_count": 45
        },
        {
          "output_type": "display_data",
          "data": {
            "image/png": "[encoded data removed]",
            "text/plain": [
              "<Figure size 432x288 with 1 Axes>"
            ]
          },
          "metadata": {
            "tags": [],
            "needs_background": "light"
          }
        }
      ]
    },
    {
      "cell_type": "code",
      "metadata": {
        "scrolled": true,
        "id": "tuzkdrXSPzXG",
        "colab": {
          "base_uri": "https://localhost:8080/",
          "height": 296
        },
        "outputId": "df5ebcee-2d4d-4729-e81d-631a40164af8"
      },
      "source": [
        "plt.scatter(np.ravel(U_austin_res[:,0]),np.ravel(U_austin_res[:,1]), label = 'Scatter plot for first two PCs')\n",
        "plt.xlabel('Principal Component 1')\n",
        "plt.ylabel('Principal Component 2')"
      ],
      "execution_count": null,
      "outputs": [
        {
          "output_type": "execute_result",
          "data": {
            "text/plain": [
              "Text(0, 0.5, 'Principal Component 2')"
            ]
          },
          "metadata": {
            "tags": []
          },
          "execution_count": 46
        },
        {
          "output_type": "display_data",
          "data": {
            "image/png": "[encoded data removed]",
            "text/plain": [
              "<Figure size 432x288 with 1 Axes>"
            ]
          },
          "metadata": {
            "tags": [],
            "needs_background": "light"
          }
        }
      ]
    },
    {
      "cell_type": "markdown",
      "metadata": {
        "id": "j2ntyLP2PzXG"
      },
      "source": [
        "Best Validation MSE for SVD"
      ]
    },
    {
      "cell_type": "code",
      "metadata": {
        "id": "nC4zULDfPzXH",
        "colab": {
          "base_uri": "https://localhost:8080/"
        },
        "outputId": "962bf547-83bc-4d52-a5a5-ffa4235748c4"
      },
      "source": [
        "Best_Val_MSE_SVD_austin = approx_err(10, sm_u_10_austin_res_val.todense(), U_austin_res, S_austin_res_dia, Vt_austin_res)\n",
        "print('Best Validation MSE for SVD for Restaurants in Austin= ', Best_Val_MSE_SVD_austin)"
      ],
      "execution_count": null,
      "outputs": [
        {
          "output_type": "stream",
          "text": [
            "Best Validation MSE for SVD for Restaurants in Austin=  17.864716085477156\n"
          ],
          "name": "stdout"
        }
      ]
    },
    {
      "cell_type": "markdown",
      "metadata": {
        "id": "fj5JGqh-PzXH"
      },
      "source": [
        "Non Zero Indices in Train, Val and Test"
      ]
    },
    {
      "cell_type": "code",
      "metadata": {
        "collapsed": true,
        "jupyter": {
          "outputs_hidden": true
        },
        "id": "fba73_tZPzXH"
      },
      "source": [
        "train_austin_nnz = sm_u_10_austin_res_train.nonzero()\n",
        "val_austin_nnz = sm_u_10_austin_res_val.nonzero()\n",
        "test_austin_nnz = sm_u_10_austin_res_test.nonzero()"
      ],
      "execution_count": null,
      "outputs": []
    },
    {
      "cell_type": "code",
      "metadata": {
        "collapsed": true,
        "jupyter": {
          "outputs_hidden": true
        },
        "id": "lXM6wEQ2PzXH"
      },
      "source": [
        "recon_matrix_svd_austin = np.dot(U_austin_res[:, :10], np.dot(S_austin_res_dia[:10,:10], Vt_austin_res[:10, :]))\n",
        "train_preds_svd_austin = np.ravel(recon_matrix_svd_austin[train_austin_nnz])\n",
        "val_preds_svd_austin = np.ravel(recon_matrix_svd_austin[val_austin_nnz])\n",
        "test_preds_svd_austin = np.ravel(recon_matrix_svd_austin[test_austin_nnz])"
      ],
      "execution_count": null,
      "outputs": []
    },
    {
      "cell_type": "markdown",
      "metadata": {
        "id": "uQO95i3nPzXI"
      },
      "source": [
        "## For Restaurants in Portland"
      ]
    },
    {
      "cell_type": "code",
      "metadata": {
        "id": "KiYt2E9NPzXI",
        "colab": {
          "base_uri": "https://localhost:8080/",
          "height": 296
        },
        "outputId": "62104076-dd55-4f39-f85d-d137b02fff2e"
      },
      "source": [
        "k = np.linspace(2,40,20, dtype = int)\n",
        "errors_svd_val_portland = {}\n",
        "errors_svd_train_portland = {}\n",
        "for i in k:\n",
        "    errors_svd_val_portland[i] = approx_err(i, sm_u_10_portland_res_val.todense(), U_portland_res, S_portland_res_dia, Vt_portland_res)\n",
        "    errors_svd_train_portland[i] = approx_err(i, sm_u_10_portland_res_train.todense(), U_portland_res, S_portland_res_dia, Vt_portland_res)\n",
        "\n",
        "plt.plot(list(errors_svd_val_portland.keys()),list(errors_svd_val_portland.values()), label = 'Validation')\n",
        "plt.plot(list(errors_svd_train_portland.keys()),list(errors_svd_train_portland.values()), label = 'Train')\n",
        "plt.xlabel(\"k\")\n",
        "plt.ylabel(\"MSE\")\n",
        "plt.legend()"
      ],
      "execution_count": null,
      "outputs": [
        {
          "output_type": "execute_result",
          "data": {
            "text/plain": [
              "<matplotlib.legend.Legend at 0x7fad11ffc590>"
            ]
          },
          "metadata": {
            "tags": []
          },
          "execution_count": 50
        },
        {
          "output_type": "display_data",
          "data": {
            "image/png": "[encoded data removed]",
            "text/plain": [
              "<Figure size 432x288 with 1 Axes>"
            ]
          },
          "metadata": {
            "tags": [],
            "needs_background": "light"
          }
        }
      ]
    },
    {
      "cell_type": "code",
      "metadata": {
        "id": "PiF1_gC8PzXI",
        "colab": {
          "base_uri": "https://localhost:8080/",
          "height": 296
        },
        "outputId": "9b2088b9-63d7-445b-c51d-733aa8a423f5"
      },
      "source": [
        "##Separately plotting the Validation error\n",
        "plt.plot(list(errors_svd_val_portland.keys()),list(errors_svd_val_portland.values()), label = 'Validation')\n",
        "plt.xlabel('k')\n",
        "plt.ylabel('MSE')\n",
        "plt.legend()"
      ],
      "execution_count": null,
      "outputs": [
        {
          "output_type": "execute_result",
          "data": {
            "text/plain": [
              "<matplotlib.legend.Legend at 0x7fad120dbb90>"
            ]
          },
          "metadata": {
            "tags": []
          },
          "execution_count": 51
        },
        {
          "output_type": "display_data",
          "data": {
            "image/png": "[encoded data removed]",
            "text/plain": [
              "<Figure size 432x288 with 1 Axes>"
            ]
          },
          "metadata": {
            "tags": [],
            "needs_background": "light"
          }
        }
      ]
    },
    {
      "cell_type": "markdown",
      "metadata": {
        "id": "czJbd-g0PzXJ"
      },
      "source": [
        "Best Validation MSE for SVD"
      ]
    },
    {
      "cell_type": "code",
      "metadata": {
        "id": "cPYwmyQ9PzXJ",
        "colab": {
          "base_uri": "https://localhost:8080/"
        },
        "outputId": "52f539de-14c7-41a8-85b1-7cd21afd25ef"
      },
      "source": [
        "Best_Val_MSE_SVD_portland = approx_err(16, sm_u_10_portland_res_val.todense(), U_portland_res, S_portland_res_dia, Vt_portland_res)\n",
        "print('Best Validation MSE for SVD for Restaurants in Portland= ', Best_Val_MSE_SVD_portland)"
      ],
      "execution_count": null,
      "outputs": [
        {
          "output_type": "stream",
          "text": [
            "Best Validation MSE for SVD for Restaurants in Portland=  18.250843994107285\n"
          ],
          "name": "stdout"
        }
      ]
    },
    {
      "cell_type": "code",
      "metadata": {
        "collapsed": true,
        "jupyter": {
          "outputs_hidden": true
        },
        "id": "AYVPvSHePzXJ"
      },
      "source": [
        "train_portland_nnz = sm_u_10_portland_res_train.nonzero()\n",
        "val_portland_nnz = sm_u_10_portland_res_val.nonzero()\n",
        "test_portland_nnz = sm_u_10_portland_res_test.nonzero()"
      ],
      "execution_count": null,
      "outputs": []
    },
    {
      "cell_type": "code",
      "metadata": {
        "collapsed": true,
        "jupyter": {
          "outputs_hidden": true
        },
        "id": "WLvZEKJ0PzXJ"
      },
      "source": [
        "recon_matrix_svd_portland = np.dot(U_portland_res[:, :15], np.dot(S_portland_res_dia[:15,:15], Vt_portland_res[:15, :]))\n",
        "train_preds_svd_portland = np.ravel(recon_matrix_svd_portland[train_portland_nnz])\n",
        "val_preds_svd_portland = np.ravel(recon_matrix_svd_portland[val_portland_nnz])\n",
        "test_preds_svd_portland = np.ravel(recon_matrix_svd_portland[test_portland_nnz])"
      ],
      "execution_count": null,
      "outputs": []
    },
    {
      "cell_type": "markdown",
      "metadata": {
        "id": "zPdY_EiLPzXK"
      },
      "source": [
        "## SVD with Bias Correction"
      ]
    },
    {
      "cell_type": "code",
      "metadata": {
        "id": "HerJIGi_PzXK",
        "colab": {
          "base_uri": "https://localhost:8080/"
        },
        "outputId": "4fbbca25-2918-4bc1-93a7-ea38a306f71b"
      },
      "source": [
        "global_bias = np.sum(sm_u_10_austin_res_train)/sm_u_10_austin_res_train.nnz\n",
        "sm_u_10_austin_res_train_wo_bias = sm_u_10_austin_res_train.todense() - global_bias\n",
        "U_austin_res_wo_bias, S_austin_res_wo_bias, Vt_austin_res_wo_bias = np.linalg.svd(sm_u_10_austin_res_train_wo_bias)\n",
        "print(\"smallest singular value = \",min(S_austin_res_wo_bias))\n",
        "print(\"largest singular value = \",max(S_austin_res_wo_bias))\n",
        "S_austin_res_dia_wo_bias = np.diag(S_austin_res_wo_bias)"
      ],
      "execution_count": null,
      "outputs": [
        {
          "output_type": "stream",
          "text": [
            "smallest singular value =  2.5942567351589408e-15\n",
            "largest singular value =  23806.437767711526\n"
          ],
          "name": "stdout"
        }
      ]
    },
    {
      "cell_type": "code",
      "metadata": {
        "id": "YJuk4netPzXK",
        "colab": {
          "base_uri": "https://localhost:8080/",
          "height": 350
        },
        "outputId": "0ac4efd2-bf31-4a7f-dba1-b7f1d881b30d"
      },
      "source": [
        "fig = plt.figure(figsize=(8,5))\n",
        "plt.semilogy(S_austin_res_wo_bias[:1000], '-', linewidth=1)\n",
        "plt.title('Elbow Plot')\n",
        "plt.xlabel('Principal Component')\n",
        "plt.ylabel('Singular Values')\n",
        "plt.show()"
      ],
      "execution_count": null,
      "outputs": [
        {
          "output_type": "display_data",
          "data": {
            "image/png": "[encoded data removed]",
            "text/plain": [
              "<Figure size 576x360 with 1 Axes>"
            ]
          },
          "metadata": {
            "tags": [],
            "needs_background": "light"
          }
        }
      ]
    },
    {
      "cell_type": "code",
      "metadata": {
        "id": "448DpcjRPzXL",
        "colab": {
          "base_uri": "https://localhost:8080/",
          "height": 282
        },
        "outputId": "e2044a03-d631-4c95-a9de-e57ffbad44a5"
      },
      "source": [
        "k_wo_bias = np.arange(1,20)\n",
        "errors_svd_wo_bias = {}\n",
        "sm_u_10_austin_res_val_wo_bias = sm_u_10_austin_res_val.todense() - global_bias \n",
        "\n",
        "for i in k_wo_bias:\n",
        "    sm_u_10_austin_res_val_wo_bias_rec = np.dot(U_austin_res_wo_bias[:, :i], np.dot(S_austin_res_dia_wo_bias[:i,:i], Vt_austin_res_wo_bias[:i, :]))\n",
        "    idx_wo_bias = np.where(sm_u_10_austin_res_val.todense()>0);\n",
        "    diff_wo_bias = sm_u_10_austin_res_val_wo_bias[idx_wo_bias] - sm_u_10_austin_res_val_wo_bias_rec[idx_wo_bias]\n",
        "    errors_svd_wo_bias[i] = np.linalg.norm(diff_wo_bias)**2/diff_wo_bias.shape[1]\n",
        "plt.plot(list(errors_svd_wo_bias.keys()),list(errors_svd_wo_bias.values()))"
      ],
      "execution_count": null,
      "outputs": [
        {
          "output_type": "execute_result",
          "data": {
            "text/plain": [
              "[<matplotlib.lines.Line2D at 0x7fad1237dc10>]"
            ]
          },
          "metadata": {
            "tags": []
          },
          "execution_count": 57
        },
        {
          "output_type": "display_data",
          "data": {
            "image/png": "[encoded data removed]",
            "text/plain": [
              "<Figure size 432x288 with 1 Axes>"
            ]
          },
          "metadata": {
            "tags": [],
            "needs_background": "light"
          }
        }
      ]
    },
    {
      "cell_type": "code",
      "metadata": {
        "collapsed": true,
        "jupyter": {
          "outputs_hidden": true
        },
        "id": "pP-4-ds9PzXL"
      },
      "source": [
        "def find_global_user_res_bias(ratings_matrix):\n",
        "    dense_matrix = ratings_matrix.todense()\n",
        "    mask_matrix = (dense_matrix>0).astype(int)\n",
        "    user_bias = np.sum(dense_matrix, axis = 1)/np.sum(mask_matrix, axis = 1)\n",
        "    res_bias =  np.sum(dense_matrix, axis = 0)/np.sum(mask_matrix, axis = 0)\n",
        "    user_bias = np.nan_to_num(user_bias)\n",
        "    res_bias = np.nan_to_num(res_bias)\n",
        "    user_bias = user_bias.reshape(-1,1)\n",
        "    res_bias = res_bias.reshape(1,-1)\n",
        "    ratings_matrix_wo_bias = dense_matrix - np.tile(user_bias, (1,dense_matrix.shape[1]))- np.tile(res_bias, (dense_matrix.shape[0], 1))\n",
        "    return user_bias, res_bias, ratings_matrix_wo_bias"
      ],
      "execution_count": null,
      "outputs": []
    },
    {
      "cell_type": "markdown",
      "metadata": {
        "id": "Gp394TbdPzXL"
      },
      "source": [
        "## For Restaurants in Austin"
      ]
    },
    {
      "cell_type": "code",
      "metadata": {
        "scrolled": true,
        "id": "MkLnrp64PzXM"
      },
      "source": [
        "user_bias_ur, res_bias_ur, train_ur = find_global_user_res_bias(sm_u_10_austin_res_train)"
      ],
      "execution_count": null,
      "outputs": []
    },
    {
      "cell_type": "code",
      "metadata": {
        "id": "D1K0oCS6PzXM",
        "colab": {
          "base_uri": "https://localhost:8080/"
        },
        "outputId": "8e553af2-33dd-4dd4-80e4-8b250dffe1ee"
      },
      "source": [
        "U_austin_res_wo_bias_ur, S_austin_res_wo_bias_ur, Vt_austin_res_wo_bias_ur = np.linalg.svd(train_ur)\n",
        "print(\"smallest singular value = \",min(S_austin_res_wo_bias_ur))\n",
        "print(\"largest singular value = \",max(S_austin_res_wo_bias_ur))\n",
        "S_austin_res_dia_wo_bias_ur = np.diag(S_austin_res_wo_bias_ur)"
      ],
      "execution_count": null,
      "outputs": [
        {
          "output_type": "stream",
          "text": [
            "smallest singular value =  1.2266364486762977e-15\n",
            "largest singular value =  47308.34865287486\n"
          ],
          "name": "stdout"
        }
      ]
    },
    {
      "cell_type": "code",
      "metadata": {
        "id": "sEq824-nPzXN",
        "colab": {
          "base_uri": "https://localhost:8080/",
          "height": 350
        },
        "outputId": "c0b1d4da-8faa-4147-9e7c-21b017617ada"
      },
      "source": [
        "fig = plt.figure(figsize=(8,5))\n",
        "plt.plot(S_austin_res_wo_bias_ur[:20], '-', linewidth=1)\n",
        "plt.title('Elbow Plot')\n",
        "plt.xlabel('Principal Component')\n",
        "plt.ylabel('Singular Values')\n",
        "plt.show()"
      ],
      "execution_count": null,
      "outputs": [
        {
          "output_type": "display_data",
          "data": {
            "image/png": "[encoded data removed]",
            "text/plain": [
              "<Figure size 576x360 with 1 Axes>"
            ]
          },
          "metadata": {
            "tags": [],
            "needs_background": "light"
          }
        }
      ]
    },
    {
      "cell_type": "code",
      "metadata": {
        "id": "kO3t-pGDPzXN",
        "colab": {
          "base_uri": "https://localhost:8080/",
          "height": 296
        },
        "outputId": "a6e07156-a086-4edb-ed95-99c323621bd4"
      },
      "source": [
        "k_wo_bias_ur = np.linspace(2,40,20, dtype = int)\n",
        "errors_svd_wo_bias_ur = {}\n",
        "sm_u_10_austin_res_val_wo_bias_ur = sm_u_10_austin_res_val.todense() - user_bias_ur - res_bias_ur\n",
        "\n",
        "for i in k_wo_bias_ur:\n",
        "    sm_u_10_austin_res_val_wo_bias_ur_rec = np.dot(U_austin_res_wo_bias_ur[:, :i], np.dot(S_austin_res_dia_wo_bias_ur[:i,:i], Vt_austin_res_wo_bias_ur[:i, :]))\n",
        "    idx_wo_bias_ur = np.where(sm_u_10_austin_res_val.todense()>0);\n",
        "    diff_wo_bias_ur = sm_u_10_austin_res_val_wo_bias_ur[idx_wo_bias_ur] - sm_u_10_austin_res_val_wo_bias_ur_rec[idx_wo_bias_ur]\n",
        "    errors_svd_wo_bias_ur[i] = np.linalg.norm(diff_wo_bias_ur)**2/diff_wo_bias_ur.shape[1]\n",
        "plt.plot(list(errors_svd_wo_bias_ur.keys()),list(errors_svd_wo_bias_ur.values()), label= 'Validation')\n",
        "plt.xlabel('PC')\n",
        "plt.ylabel('MSE')\n",
        "plt.legend()"
      ],
      "execution_count": null,
      "outputs": [
        {
          "output_type": "execute_result",
          "data": {
            "text/plain": [
              "<matplotlib.legend.Legend at 0x7fad123f1c90>"
            ]
          },
          "metadata": {
            "tags": []
          },
          "execution_count": 62
        },
        {
          "output_type": "display_data",
          "data": {
            "image/png": "[encoded data removed]",
            "text/plain": [
              "<Figure size 432x288 with 1 Axes>"
            ]
          },
          "metadata": {
            "tags": [],
            "needs_background": "light"
          }
        }
      ]
    },
    {
      "cell_type": "markdown",
      "metadata": {
        "id": "b-dYeAdlPzXN"
      },
      "source": [
        "## For Restaurants in Portland"
      ]
    },
    {
      "cell_type": "code",
      "metadata": {
        "id": "CJ2ILLPGPzXO"
      },
      "source": [
        "user_bias_ur_portland, res_bias_ur_portland, train_ur_portland = find_global_user_res_bias(sm_u_10_portland_res_train)"
      ],
      "execution_count": null,
      "outputs": []
    },
    {
      "cell_type": "code",
      "metadata": {
        "id": "xTZ3LY2sPzXO",
        "colab": {
          "base_uri": "https://localhost:8080/"
        },
        "outputId": "f577c9f0-e28a-4099-c558-9962f0c90218"
      },
      "source": [
        "U_portland_res_wo_bias_ur, S_portland_res_wo_bias_ur, Vt_portland_res_wo_bias_ur = np.linalg.svd(train_ur_portland)\n",
        "print(\"smallest singular value = \",min(S_portland_res_wo_bias_ur))\n",
        "print(\"largest singular value = \",max(S_portland_res_wo_bias_ur))\n",
        "S_portland_res_dia_wo_bias_ur = np.diag(S_portland_res_wo_bias_ur)"
      ],
      "execution_count": null,
      "outputs": [
        {
          "output_type": "stream",
          "text": [
            "smallest singular value =  1.0267681801086373e-14\n",
            "largest singular value =  50403.37708197539\n"
          ],
          "name": "stdout"
        }
      ]
    },
    {
      "cell_type": "code",
      "metadata": {
        "id": "FDqIIDdZPzXO",
        "colab": {
          "base_uri": "https://localhost:8080/",
          "height": 296
        },
        "outputId": "f7162757-5489-4cb1-af60-7c24bc4a710c"
      },
      "source": [
        "k_wo_bias_ur = np.linspace(2,40,20, dtype = int)\n",
        "errors_svd_wo_bias_ur_portland = {}\n",
        "sm_u_10_portland_res_val_wo_bias_ur = sm_u_10_portland_res_val.todense() - user_bias_ur_portland - res_bias_ur_portland\n",
        "\n",
        "for i in k_wo_bias_ur:\n",
        "    sm_u_10_portland_res_val_wo_bias_ur_rec = np.dot(U_portland_res_wo_bias_ur[:, :i], np.dot(S_portland_res_dia_wo_bias_ur[:i,:i], Vt_portland_res_wo_bias_ur[:i, :]))\n",
        "    idx_wo_bias_ur_portland = np.where(sm_u_10_portland_res_val.todense()>0);\n",
        "    diff_wo_bias_ur_portland = sm_u_10_portland_res_val_wo_bias_ur[idx_wo_bias_ur_portland] - sm_u_10_portland_res_val_wo_bias_ur_rec[idx_wo_bias_ur_portland]\n",
        "    errors_svd_wo_bias_ur_portland[i] = np.linalg.norm(diff_wo_bias_ur_portland)**2/diff_wo_bias_ur_portland.shape[1]\n",
        "plt.plot(list(errors_svd_wo_bias_ur_portland.keys()),list(errors_svd_wo_bias_ur_portland.values()), label = 'Validation')\n",
        "plt.xlabel('PC')\n",
        "plt.ylabel('MSE')\n",
        "plt.legend()"
      ],
      "execution_count": null,
      "outputs": [
        {
          "output_type": "execute_result",
          "data": {
            "text/plain": [
              "<matplotlib.legend.Legend at 0x7fad121de110>"
            ]
          },
          "metadata": {
            "tags": []
          },
          "execution_count": 65
        },
        {
          "output_type": "display_data",
          "data": {
            "image/png": "[encoded data removed]",
            "text/plain": [
              "<Figure size 432x288 with 1 Axes>"
            ]
          },
          "metadata": {
            "tags": [],
            "needs_background": "light"
          }
        }
      ]
    },
    {
      "cell_type": "markdown",
      "metadata": {
        "id": "vDlPMtxnPzXP"
      },
      "source": [
        "# 3.2 Cosine Similarity with correction for bias"
      ]
    },
    {
      "cell_type": "code",
      "metadata": {
        "collapsed": true,
        "jupyter": {
          "outputs_hidden": true
        },
        "id": "L-Hj9PICPzXP"
      },
      "source": [
        "def similarity_matrix(train_matrix, between = 'users'):\n",
        "    '''Returns the cosine similarity between users or restaurants'''\n",
        "    if between == 'users':\n",
        "        similarity = train_matrix*train_matrix.transpose()\n",
        "    else:\n",
        "        similarity = train_matrix.transpose()*train_matrix\n",
        "    similarity_dense = similarity.todense() + 1e-8\n",
        "    norm_array = np.sqrt(np.diag(similarity_dense))\n",
        "    return similarity_dense/norm_array/norm_array.reshape(-1,1)"
      ],
      "execution_count": null,
      "outputs": []
    },
    {
      "cell_type": "code",
      "metadata": {
        "collapsed": true,
        "jupyter": {
          "outputs_hidden": true
        },
        "id": "CQgg00VUPzXP"
      },
      "source": [
        "def predict_topk_nobias(ratings, similarity, kind='user', k=40):\n",
        "    pred = np.zeros(ratings.shape)\n",
        "    if kind == 'user':\n",
        "        user_bias = np.mean(ratings, axis =1)\n",
        "        ratings = (ratings - np.tile(user_bias, (ratings.shape[1],1)).T).copy()\n",
        "        for i in range(ratings.shape[0]):\n",
        "            top_k_users = np.argsort(similarity[:,i])[:-k-1:-1]\n",
        "            pred[i] = np.dot(similarity[i,top_k_users],ratings[top_k_users,:])/np.sum(np.abs(similarity[i,top_k_users]))\n",
        "        pred += np.tile(user_bias,(ratings.shape[1],1)).T\n",
        "    else:\n",
        "        item_bias = np.mean(ratings, axis=0)\n",
        "        ratings = (ratings - np.tile(item_bias,(ratings.shape[0],1))).copy()\n",
        "        for j in range(ratings.shape[1]):\n",
        "            top_k_items = np.argsort(similarity[:,j])[:-k-1:-1]\n",
        "            pred[:,j] = np.dot(similarity[top_k_items,j].T,ratings[:,top_k_items].T)/np.sum(np.abs(similarity[top_k_items,j]))\n",
        "        pred += np.tile(item_bias,(ratings.shape[0],1))\n",
        "        \n",
        "    return pred"
      ],
      "execution_count": null,
      "outputs": []
    },
    {
      "cell_type": "code",
      "metadata": {
        "collapsed": true,
        "jupyter": {
          "outputs_hidden": true
        },
        "id": "KorOJDkpPzXP"
      },
      "source": [
        "def get_mse(pred, actual):\n",
        "    # Ignore zero terms.\n",
        "    pred = pred[actual.nonzero()].flatten()\n",
        "    actual = actual[actual.nonzero()].flatten()\n",
        "    return mean_squared_error(pred, actual)"
      ],
      "execution_count": null,
      "outputs": []
    },
    {
      "cell_type": "code",
      "metadata": {
        "scrolled": true,
        "id": "4dWmLHR9PzXP",
        "colab": {
          "base_uri": "https://localhost:8080/"
        },
        "outputId": "3cd1693d-2023-4762-be3c-aab88636d6a3"
      },
      "source": [
        "simi_austin_res = similarity_matrix(sm_u_10_austin_res_train, between='res')\n",
        "simi_austin_res = np.array(simi_austin_res)\n",
        "preds_cosine_austin = predict_topk_nobias(np.array(sm_u_10_austin_res_train.todense()),simi_austin_res,kind='res', k=1)\n",
        "MSE_cosine_res = get_mse(preds_cosine_austin, np.array(sm_u_10_austin_res_val.todense()))\n",
        "print(\"MSE for cosine Similarity between Restaurants =\",MSE_cosine_res)"
      ],
      "execution_count": null,
      "outputs": [
        {
          "output_type": "stream",
          "text": [
            "MSE for cosine Similarity between Restaurants = 18.954625413907284\n"
          ],
          "name": "stdout"
        }
      ]
    },
    {
      "cell_type": "code",
      "metadata": {
        "scrolled": true,
        "id": "sI-J_LUrPzXQ",
        "colab": {
          "base_uri": "https://localhost:8080/"
        },
        "outputId": "16587919-cb68-4fa8-aca1-5e686d654269"
      },
      "source": [
        "simi_austin_users = similarity_matrix(sm_u_10_austin_res_train, between='users')\n",
        "simi_austin_users = np.array(simi_austin_users)\n",
        "preds_cosine_austin_users = predict_topk_nobias(np.array(sm_u_10_austin_res_train.todense()),simi_austin_users,kind='user', k=1)\n",
        "MSE_cosine_users = get_mse(preds_cosine_austin_users, np.array(sm_u_10_austin_res_val.todense()))\n",
        "print(\"MSE for cosine Similarity between Users =\",MSE_cosine_users)"
      ],
      "execution_count": null,
      "outputs": [
        {
          "output_type": "stream",
          "text": [
            "MSE for cosine Similarity between Users = 18.954625413907284\n"
          ],
          "name": "stdout"
        }
      ]
    },
    {
      "cell_type": "markdown",
      "metadata": {
        "id": "vDMcDMsXPzXQ"
      },
      "source": [
        "## For Restaurants in Austin"
      ]
    },
    {
      "cell_type": "code",
      "metadata": {
        "scrolled": true,
        "id": "Mk7zPY3-PzXQ"
      },
      "source": [
        "errors_cs_res_austin_val = {}\n",
        "errors_cs_res_austin_train = {}\n",
        "k_cs = np.arange(1, 40)\n",
        "for i in k_cs:\n",
        "    preds_cs_res_austin = predict_topk_nobias(np.array(sm_u_10_austin_res_train.todense()),simi_austin_res,kind='res', k=i)\n",
        "    error_cs_val = get_mse(preds_cs_res_austin, np.array(sm_u_10_austin_res_val.todense()))\n",
        "    error_cs_train = get_mse(preds_cs_res_austin, np.array(sm_u_10_austin_res_train.todense()))\n",
        "    errors_cs_res_austin_val[i] = error_cs_val\n",
        "    errors_cs_res_austin_train[i] = error_cs_train\n"
      ],
      "execution_count": null,
      "outputs": []
    },
    {
      "cell_type": "code",
      "metadata": {
        "colab": {
          "base_uri": "https://localhost:8080/",
          "height": 312
        },
        "id": "E1cXxP0Ozlre",
        "outputId": "68893efe-1ec9-42a5-9f82-ce711f264b58"
      },
      "source": [
        "plt.plot(list(errors_cs_res_austin_val.keys()),list(errors_cs_res_austin_val.values()), label = 'Validation')\n",
        "plt.plot(list(errors_cs_res_austin_train.keys()),list(errors_cs_res_austin_train.values()), label = 'Train')\n",
        "plt.xlabel('K Neighbors')\n",
        "plt.ylabel('MSE')\n",
        "plt.title('Cosine Similarity: MSE (train/Val) vs K')\n",
        "plt.legend()"
      ],
      "execution_count": null,
      "outputs": [
        {
          "output_type": "execute_result",
          "data": {
            "text/plain": [
              "<matplotlib.legend.Legend at 0x7fad124eebd0>"
            ]
          },
          "metadata": {
            "tags": []
          },
          "execution_count": 72
        },
        {
          "output_type": "display_data",
          "data": {
            "image/png": "[encoded data removed]",
            "text/plain": [
              "<Figure size 432x288 with 1 Axes>"
            ]
          },
          "metadata": {
            "tags": [],
            "needs_background": "light"
          }
        }
      ]
    },
    {
      "cell_type": "code",
      "metadata": {
        "id": "2-iOjcmxPzXR",
        "colab": {
          "base_uri": "https://localhost:8080/"
        },
        "outputId": "7a17cc7a-b440-407b-922f-5f92c48468d6"
      },
      "source": [
        "preds_cosine_austin = predict_topk_nobias(np.array(sm_u_10_austin_res_train.todense()),simi_austin_res,kind='res', k=40)\n",
        "Best_Val_MSE_Cosine_austin = get_mse(preds_cosine_austin, np.array(sm_u_10_austin_res_val.todense()))\n",
        "print('Best Validation MSE for Cosine Similarity for Restaurants in Austin= ', Best_Val_MSE_Cosine_austin)"
      ],
      "execution_count": null,
      "outputs": [
        {
          "output_type": "stream",
          "text": [
            "Best Validation MSE for Cosine Similarity for Restaurants in Austin=  17.949789493187883\n"
          ],
          "name": "stdout"
        }
      ]
    },
    {
      "cell_type": "code",
      "metadata": {
        "collapsed": true,
        "jupyter": {
          "outputs_hidden": true
        },
        "id": "c-EkwedQPzXR"
      },
      "source": [
        "train_preds_cosine_austin = preds_cosine_austin[train_austin_nnz]\n",
        "val_preds_cosine_austin = preds_cosine_austin[val_austin_nnz]\n",
        "test_preds_cosine_austin = preds_cosine_austin[test_austin_nnz]"
      ],
      "execution_count": null,
      "outputs": []
    },
    {
      "cell_type": "markdown",
      "metadata": {
        "id": "Z38Nd2xdPzXR"
      },
      "source": [
        "## For Restaurants in Portland"
      ]
    },
    {
      "cell_type": "code",
      "metadata": {
        "id": "8LFnYILWPzXR",
        "colab": {
          "base_uri": "https://localhost:8080/",
          "height": 312
        },
        "outputId": "00c4ec03-c1fa-49c4-fbef-227d93e8379f"
      },
      "source": [
        "errors_cs_res_portland_val = {}\n",
        "errors_cs_res_portland_train = {}\n",
        "k_cs = np.arange(1, 40)\n",
        "simi_portland_res = similarity_matrix(sm_u_10_portland_res_train, between='res')\n",
        "simi_portland_res = np.array(simi_portland_res)\n",
        "for i in k_cs:\n",
        "    preds_cs_res_portland = predict_topk_nobias(np.array(sm_u_10_portland_res_train.todense()),simi_portland_res,kind='res', k=i)\n",
        "    error_cs_val = get_mse(preds_cs_res_portland, np.array(sm_u_10_portland_res_val.todense()))\n",
        "    error_cs_train = get_mse(preds_cs_res_portland, np.array(sm_u_10_portland_res_train.todense()))\n",
        "    errors_cs_res_portland_val[i] = error_cs_val\n",
        "    errors_cs_res_portland_train[i] = error_cs_train\n",
        "plt.plot(list(errors_cs_res_portland_val.keys()),list(errors_cs_res_portland_val.values()), label = 'Validation')\n",
        "plt.plot(list(errors_cs_res_portland_train.keys()),list(errors_cs_res_portland_train.values()), label = 'Train')\n",
        "plt.xlabel('K Neighbors')\n",
        "plt.ylabel('MSE')\n",
        "plt.title('Cosine Similarity: MSE (train/Val) vs K (Portland Restaurants)')\n",
        "plt.legend()"
      ],
      "execution_count": null,
      "outputs": [
        {
          "output_type": "execute_result",
          "data": {
            "text/plain": [
              "<matplotlib.legend.Legend at 0x7fad123d6e50>"
            ]
          },
          "metadata": {
            "tags": []
          },
          "execution_count": 75
        },
        {
          "output_type": "display_data",
          "data": {
            "image/png": "[encoded data removed]",
            "text/plain": [
              "<Figure size 432x288 with 1 Axes>"
            ]
          },
          "metadata": {
            "tags": [],
            "needs_background": "light"
          }
        }
      ]
    },
    {
      "cell_type": "code",
      "metadata": {
        "id": "3W7V_sbSPzXR",
        "colab": {
          "base_uri": "https://localhost:8080/"
        },
        "outputId": "c71323e1-a1e9-496f-debd-7325ab2664c9"
      },
      "source": [
        "preds_cosine_portland = predict_topk_nobias(np.array(sm_u_10_portland_res_train.todense()),simi_portland_res,kind='res', k=40)\n",
        "Best_Val_MSE_Cosine_portland = get_mse(preds_cosine_portland, np.array(sm_u_10_portland_res_val.todense()))\n",
        "print('Best Validation MSE for Cosine Similarity for Restaurants in Portland= ', Best_Val_MSE_Cosine_portland)"
      ],
      "execution_count": null,
      "outputs": [
        {
          "output_type": "stream",
          "text": [
            "Best Validation MSE for Cosine Similarity for Restaurants in Portland=  18.309133691438465\n"
          ],
          "name": "stdout"
        }
      ]
    },
    {
      "cell_type": "code",
      "metadata": {
        "id": "0xhrL_HUPzXS"
      },
      "source": [
        "train_preds_cosine_portland = preds_cosine_portland[train_portland_nnz]\n",
        "val_preds_cosine_portland = preds_cosine_portland[val_portland_nnz]\n",
        "test_preds_cosine_portland = preds_cosine_portland[test_portland_nnz]"
      ],
      "execution_count": null,
      "outputs": []
    },
    {
      "cell_type": "markdown",
      "metadata": {
        "id": "VukbOBsNPzXS"
      },
      "source": [
        "# 3.3 ALS:"
      ]
    },
    {
      "cell_type": "code",
      "metadata": {
        "collapsed": true,
        "jupyter": {
          "outputs_hidden": true
        },
        "id": "9LIPl8I_PzXS"
      },
      "source": [
        "def als(ratings_matrix, k=40, user_reg=0, res_reg=0, iters=10):\n",
        "    '''Performs ALS for a given ratings_matrix and returns predictions using the latent vector representation User (U x K) and Restaurant (R x K)'''\n",
        "    ratings_matrix = ratings_matrix.T\n",
        "    user_vec = np.random.rand(ratings_matrix.shape[1],k).T\n",
        "    res_vec = np.random.rand(ratings_matrix.shape[0],k).T\n",
        "    for i in range(iters):\n",
        "        for u in range(ratings_matrix.shape[1]):\n",
        "            user_vec[:,u] = np.linalg.solve(np.dot(res_vec,res_vec.T) + user_reg * np.eye(res_vec.shape[0]), np.dot(res_vec,ratings_matrix[:,u]))\n",
        "        for r in range(ratings_matrix.shape[0]):\n",
        "            res_vec[:,r] = np.linalg.solve(np.dot(user_vec,user_vec.T) + res_reg * np.eye(user_vec.shape[0]), np.dot(user_vec,ratings_matrix[r,:].T))\n",
        "        prediction = np.dot(res_vec.T, user_vec)\n",
        "#         error = np.mean((ratings_matrix - prediction)**2)\n",
        "    return np.dot(res_vec.T, user_vec).T"
      ],
      "execution_count": null,
      "outputs": []
    },
    {
      "cell_type": "markdown",
      "metadata": {
        "id": "4yMgQib7PzXS"
      },
      "source": [
        "## For Restaurants in Austin"
      ]
    },
    {
      "cell_type": "code",
      "metadata": {
        "id": "SK6XOIO0PzXS",
        "colab": {
          "base_uri": "https://localhost:8080/",
          "height": 368
        },
        "outputId": "a3e97a4a-5787-45ee-fada-6e2bf3395e2a"
      },
      "source": [
        "num_features = np.linspace(1,20,5,dtype=int)\n",
        "test_error_als = []\n",
        "train_error_als = []\n",
        "for i in num_features:\n",
        "    preds_als = als(np.array(sm_u_10_austin_res_train.todense()), k=i, iters = 5)\n",
        "    test_err = get_mse(preds_als, np.array(sm_u_10_austin_res_val.todense()))\n",
        "    train_err = get_mse(preds_als, np.array(sm_u_10_austin_res_train.todense()))\n",
        "    test_error_als.append(test_err)\n",
        "    train_error_als.append(train_err)\n",
        "\n",
        "fig = plt.figure(figsize=(8,5))\n",
        "plt.plot(num_features,test_error_als,'b-',label = 'validation')\n",
        "plt.plot(num_features,train_error_als,'r-', label = 'training')\n",
        "plt.title('MSE vs num_features (for ALS)')\n",
        "plt.xlabel('Number of features in a feature vector')\n",
        "plt.ylabel('MSE')\n",
        "plt.legend()"
      ],
      "execution_count": null,
      "outputs": [
        {
          "output_type": "execute_result",
          "data": {
            "text/plain": [
              "<matplotlib.legend.Legend at 0x7fad1229f090>"
            ]
          },
          "metadata": {
            "tags": []
          },
          "execution_count": 79
        },
        {
          "output_type": "display_data",
          "data": {
            "image/png": "[encoded data removed]",
            "text/plain": [
              "<Figure size 576x360 with 1 Axes>"
            ]
          },
          "metadata": {
            "tags": [],
            "needs_background": "light"
          }
        }
      ]
    },
    {
      "cell_type": "code",
      "metadata": {
        "id": "O2jgf-FtPzXT",
        "colab": {
          "base_uri": "https://localhost:8080/",
          "height": 368
        },
        "outputId": "e3dc8bad-f427-4f3d-dfc8-a3297376d949"
      },
      "source": [
        "user_reg= np.logspace(-4,3,7)\n",
        "val_error_als = {}\n",
        "# train_error_als = {}\n",
        "fig = plt.figure(figsize=(8,5))\n",
        "for i in user_reg:\n",
        "    val_error_als[i] = []\n",
        "    preds_als = als(np.array(sm_u_10_austin_res_train.todense()),k=10, iters = 5, user_reg=i, res_reg=i)\n",
        "    val_err = get_mse(preds_als, np.array(sm_u_10_austin_res_val.todense()))\n",
        "#         train_err = get_mse(preds_als, np.array(train.todense()))\n",
        "    val_error_als[i].append(val_err)\n",
        "#         train_error_als[i].append(train_err)\n",
        "plt.plot(list(np.log10(user_reg)),list(val_error_als.values()))\n",
        "#     plt.plot(np.log(res_reg),train_error_als[i], label = 'User_reg = '+ str(i))\n",
        "\n",
        "\n",
        "plt.title('MSE vs Regularization')\n",
        "plt.xlabel('Regularization (log Scale) (User Reg =  Res Reg)')\n",
        "plt.ylabel('MSE')"
      ],
      "execution_count": null,
      "outputs": [
        {
          "output_type": "execute_result",
          "data": {
            "text/plain": [
              "Text(0, 0.5, 'MSE')"
            ]
          },
          "metadata": {
            "tags": []
          },
          "execution_count": 80
        },
        {
          "output_type": "display_data",
          "data": {
            "image/png": "[encoded data removed]",
            "text/plain": [
              "<Figure size 576x360 with 1 Axes>"
            ]
          },
          "metadata": {
            "tags": [],
            "needs_background": "light"
          }
        }
      ]
    },
    {
      "cell_type": "code",
      "metadata": {
        "colab": {
          "base_uri": "https://localhost:8080/",
          "height": 312
        },
        "id": "ioouq_Sf5fkY",
        "outputId": "873ba601-74fa-47a8-c71a-6a2fa9eeb754"
      },
      "source": [
        "plt.plot(list(np.log10(user_reg)),list(val_error_als.values()))\n",
        "plt.title('MSE vs Regularization')\n",
        "plt.xlabel('Regularization (log Scale) (User Reg =  Res Reg)')\n",
        "plt.ylabel('MSE')"
      ],
      "execution_count": null,
      "outputs": [
        {
          "output_type": "execute_result",
          "data": {
            "text/plain": [
              "Text(0, 0.5, 'MSE')"
            ]
          },
          "metadata": {
            "tags": []
          },
          "execution_count": 81
        },
        {
          "output_type": "display_data",
          "data": {
            "image/png": "[encoded data removed]",
            "text/plain": [
              "<Figure size 432x288 with 1 Axes>"
            ]
          },
          "metadata": {
            "tags": [],
            "needs_background": "light"
          }
        }
      ]
    },
    {
      "cell_type": "code",
      "metadata": {
        "id": "MZcoyG26PzXT",
        "colab": {
          "base_uri": "https://localhost:8080/"
        },
        "outputId": "d5f35b4f-ed0c-4b7b-cd65-dccd964d9284"
      },
      "source": [
        "preds_als_austin = als(np.array(sm_u_10_austin_res_train.todense()),k=10, iters = 5, user_reg=0.001 , res_reg=0.001)\n",
        "Best_Val_MSE_als_austin = get_mse(preds_als_austin, np.array(sm_u_10_austin_res_val.todense()))\n",
        "print('Best Validation MSE for ALS for Restaurants in Austin= ', Best_Val_MSE_als_austin)"
      ],
      "execution_count": null,
      "outputs": [
        {
          "output_type": "stream",
          "text": [
            "Best Validation MSE for ALS for Restaurants in Austin=  17.87026493677067\n"
          ],
          "name": "stdout"
        }
      ]
    },
    {
      "cell_type": "code",
      "metadata": {
        "collapsed": true,
        "jupyter": {
          "outputs_hidden": true
        },
        "id": "2D8DwYDuPzXT"
      },
      "source": [
        "train_preds_als_austin = preds_als_austin[train_austin_nnz]\n",
        "val_preds_als_austin = preds_als_austin[val_austin_nnz]\n",
        "test_preds_als_austin = preds_als_austin[test_austin_nnz]"
      ],
      "execution_count": null,
      "outputs": []
    },
    {
      "cell_type": "markdown",
      "metadata": {
        "id": "w55q74DiPzXU"
      },
      "source": [
        "## For Restaurants in Portland"
      ]
    },
    {
      "cell_type": "code",
      "metadata": {
        "id": "kHfHSSkmPzXU",
        "colab": {
          "base_uri": "https://localhost:8080/",
          "height": 368
        },
        "outputId": "aeae7325-e1bb-4ca8-d704-2a5a5588cd68"
      },
      "source": [
        "num_features = np.linspace(1,20,5,dtype=int)\n",
        "test_error_als_portland = []\n",
        "train_error_als_portland = []\n",
        "for i in num_features:\n",
        "    preds_als = als(np.array(sm_u_10_portland_res_train.todense()), k=i, iters = 5)\n",
        "    test_err = get_mse(preds_als, np.array(sm_u_10_portland_res_val.todense()))\n",
        "    train_err = get_mse(preds_als, np.array(sm_u_10_portland_res_train.todense()))\n",
        "    test_error_als_portland.append(test_err)\n",
        "    train_error_als_portland.append(train_err)\n",
        "\n",
        "fig = plt.figure(figsize=(8,5))\n",
        "plt.plot(num_features,test_error_als_portland,'b-',label = 'validation')\n",
        "plt.plot(num_features,train_error_als_portland,'r-', label = 'training')\n",
        "plt.title('MSE vs num_features (for ALS)')\n",
        "plt.xlabel('Number of features in a feature vector')\n",
        "plt.ylabel('MSE')\n",
        "plt.legend()"
      ],
      "execution_count": null,
      "outputs": [
        {
          "output_type": "execute_result",
          "data": {
            "text/plain": [
              "<matplotlib.legend.Legend at 0x7fad10d91090>"
            ]
          },
          "metadata": {
            "tags": []
          },
          "execution_count": 84
        },
        {
          "output_type": "display_data",
          "data": {
            "image/png": "[encoded data removed]",
            "text/plain": [
              "<Figure size 576x360 with 1 Axes>"
            ]
          },
          "metadata": {
            "tags": [],
            "needs_background": "light"
          }
        }
      ]
    },
    {
      "cell_type": "code",
      "metadata": {
        "id": "DLJ4rZLRPzXU",
        "colab": {
          "base_uri": "https://localhost:8080/",
          "height": 368
        },
        "outputId": "79a787b4-543b-481d-9d08-78f86d356c01"
      },
      "source": [
        "user_reg= np.logspace(-4,3,7)\n",
        "val_error_als = {}\n",
        "# train_error_als = {}\n",
        "fig = plt.figure(figsize=(8,5))\n",
        "for i in user_reg:\n",
        "    val_error_als[i] = []\n",
        "    preds_als = als(np.array(sm_u_10_portland_res_train.todense()),k=10, iters = 5, user_reg=i, res_reg=i)\n",
        "    val_err = get_mse(preds_als, np.array(sm_u_10_portland_res_val.todense()))\n",
        "#         train_err = get_mse(preds_als, np.array(train.todense()))\n",
        "    val_error_als[i].append(val_err)\n",
        "#         train_error_als[i].append(train_err)\n",
        "plt.plot(list(np.log10(user_reg)),list(val_error_als.values()))\n",
        "#     plt.plot(np.log(res_reg),train_error_als[i], label = 'User_reg = '+ str(i))\n",
        "\n",
        "\n",
        "plt.title('MSE vs Regularization')\n",
        "plt.xlabel('Regularization (log Scale) (User Reg =  Res Reg)')\n",
        "plt.ylabel('MSE')"
      ],
      "execution_count": null,
      "outputs": [
        {
          "output_type": "execute_result",
          "data": {
            "text/plain": [
              "Text(0, 0.5, 'MSE')"
            ]
          },
          "metadata": {
            "tags": []
          },
          "execution_count": 85
        },
        {
          "output_type": "display_data",
          "data": {
            "image/png": "[encoded data removed]",
            "text/plain": [
              "<Figure size 576x360 with 1 Axes>"
            ]
          },
          "metadata": {
            "tags": [],
            "needs_background": "light"
          }
        }
      ]
    },
    {
      "cell_type": "code",
      "metadata": {
        "colab": {
          "base_uri": "https://localhost:8080/",
          "height": 312
        },
        "id": "qtHWPRFS58Lm",
        "outputId": "56e9e783-e714-4e28-b3c3-779ff50761c9"
      },
      "source": [
        "plt.plot(list(np.log10(user_reg)),list(val_error_als.values()))\n",
        "#     plt.plot(np.log(res_reg),train_error_als[i], label = 'User_reg = '+ str(i))\n",
        "\n",
        "\n",
        "plt.title('MSE vs Regularization')\n",
        "plt.xlabel('Regularization (log Scale) (User Reg =  Res Reg)')\n",
        "plt.ylabel('MSE')"
      ],
      "execution_count": null,
      "outputs": [
        {
          "output_type": "execute_result",
          "data": {
            "text/plain": [
              "Text(0, 0.5, 'MSE')"
            ]
          },
          "metadata": {
            "tags": []
          },
          "execution_count": 86
        },
        {
          "output_type": "display_data",
          "data": {
            "image/png": "[encoded data removed]",
            "text/plain": [
              "<Figure size 432x288 with 1 Axes>"
            ]
          },
          "metadata": {
            "tags": [],
            "needs_background": "light"
          }
        }
      ]
    },
    {
      "cell_type": "code",
      "metadata": {
        "id": "oqQkpwkcPzXU",
        "colab": {
          "base_uri": "https://localhost:8080/"
        },
        "outputId": "db85ed4e-78c2-4daf-fb46-8481bfd5eda3"
      },
      "source": [
        "preds_als_portland = als(np.array(sm_u_10_portland_res_train.todense()),k=10, iters = 5, user_reg=0.01, res_reg=0.01)\n",
        "Best_Val_MSE_als_portland = get_mse(preds_als_portland, np.array(sm_u_10_portland_res_val.todense()))\n",
        "print('Best Validation MSE for ALS for Restaurants in Portland= ', Best_Val_MSE_als_portland)"
      ],
      "execution_count": null,
      "outputs": [
        {
          "output_type": "stream",
          "text": [
            "Best Validation MSE for ALS for Restaurants in Portland=  18.28553189666629\n"
          ],
          "name": "stdout"
        }
      ]
    },
    {
      "cell_type": "code",
      "metadata": {
        "collapsed": true,
        "jupyter": {
          "outputs_hidden": true
        },
        "id": "f7-f8TJOPzXV"
      },
      "source": [
        "train_preds_als_portland = preds_als_portland[train_portland_nnz]\n",
        "val_preds_als_portland = preds_als_portland[val_portland_nnz]\n",
        "test_preds_als_portland = preds_als_portland[test_portland_nnz]"
      ],
      "execution_count": null,
      "outputs": []
    },
    {
      "cell_type": "markdown",
      "metadata": {
        "id": "ZkXRYQvPPzXV"
      },
      "source": [
        "# 3.4 SGD with bias correction"
      ]
    },
    {
      "cell_type": "code",
      "metadata": {
        "collapsed": true,
        "jupyter": {
          "outputs_hidden": true
        },
        "id": "hkaF3tr4PzXV"
      },
      "source": [
        "def sgd(ratings, k=40, user_bias_reg = 0.01, res_bias_reg = 0.01, user_vec_reg = 0.01, res_vec_reg = 0.01, lr = 1e-3, \n",
        "       iterations = 200):\n",
        "    '''Learn user and res biases along with latent vectors'''\n",
        "    error_array = np.zeros(iterations);\n",
        "    global_bias = np.mean(ratings[np.where(ratings)!=0])\n",
        "    user_bias = 0.1*(2*(np.random.rand(ratings.shape[0]))-1)\n",
        "    res_bias = 0.1*(2*(np.random.rand(ratings.shape[1]))-1)\n",
        "    user_vec = 0.1*(2*(np.random.rand(ratings.shape[0],k))-1)\n",
        "    res_vec = 0.1*(2*(np.random.rand(ratings.shape[1],k))-1)\n",
        "    training_idx = np.arange(ratings.nonzero()[0].shape[0])\n",
        "    np.random.shuffle(training_idx)\n",
        "    nz_rows_idx = ratings.nonzero()[0]\n",
        "    nz_cols_idx = ratings.nonzero()[1]\n",
        "    for i in range(iterations):\n",
        "    \n",
        "#         if(i%20 == 0):\n",
        "#             print('Iteration number: ', i)\n",
        "        lr = 1.0/(100 + 0.01*i)\n",
        "        np.random.shuffle(training_idx)\n",
        "        \n",
        "        temp_error_array = np.zeros(len(training_idx));\n",
        "        for datapoint_i, idx in enumerate(training_idx):\n",
        "            u = nz_rows_idx[idx]\n",
        "            r = nz_cols_idx[idx]\n",
        "            prediction = global_bias + user_bias[u] + res_bias[r] + np.dot(user_vec[u,:], res_vec[r,:].T)\n",
        "            e = (ratings[u,r] - prediction);\n",
        "            temp_error_array[datapoint_i] += e**2;\n",
        "            if i > 0:\n",
        "                user_bias[u] += lr * (e - user_bias_reg * user_bias[u])\n",
        "                res_bias[r] += lr * (e - res_bias_reg * res_bias[r])\n",
        "                user_vec[u,:] += lr * (e * res_vec[r,:] - user_vec_reg * user_vec[u,:])\n",
        "                res_vec[r,:] += lr * (e * user_vec[u,:] - res_vec_reg * res_vec[r,:])\n",
        "            \n",
        "        error_array[i] = np.mean(temp_error_array);\n",
        "#         print(error_array[i])\n",
        "            \n",
        "    predictions = global_bias + user_bias[:, np.newaxis] + res_bias[np.newaxis, :] + np.dot(user_vec, res_vec.T)\n",
        "    predictions[predictions > 5] = 5\n",
        "    predictions[predictions < 0] = 0\n",
        "    \n",
        "    return (predictions, error_array, user_vec, res_vec)"
      ],
      "execution_count": null,
      "outputs": []
    },
    {
      "cell_type": "markdown",
      "metadata": {
        "id": "wfNjIzwAPzXV"
      },
      "source": [
        "## Tuning the Iters hyper-parameter"
      ]
    },
    {
      "cell_type": "markdown",
      "metadata": {
        "id": "DbFsUoByPzXV"
      },
      "source": [
        "## For Restaurants in Portland"
      ]
    },
    {
      "cell_type": "code",
      "metadata": {
        "id": "_oyMCE7vPzXW",
        "colab": {
          "base_uri": "https://localhost:8080/",
          "height": 437
        },
        "outputId": "ab373182-a319-41a7-96b1-3226a9c5d8ac"
      },
      "source": [
        "iters = np.arange(10, 50, 10)\n",
        "err_sgd_test = []\n",
        "err_sgd_train = []\n",
        "for i in iters:\n",
        "    print('iters = ',i)\n",
        "    preds_sgd = sgd(np.array(sm_u_10_austin_res_train.todense()), k=10, iterations= i)\n",
        "    err_test = get_mse(preds_sgd[0], np.array(sm_u_10_austin_res_val.todense()))\n",
        "    err_train = get_mse(preds_sgd[0], np.array(sm_u_10_austin_res_train.todense()))\n",
        "    err_sgd_test.append(err_test)\n",
        "    err_sgd_train.append(err_train)\n",
        "fig = plt.figure(figsize=(8,5))\n",
        "plt.plot(iters,err_sgd_test,'b-',label = 'validation')\n",
        "plt.plot(iters,err_sgd_train,'r-', label = 'training')\n",
        "plt.title('MSE_sgd vs Iterations (Restaurants in Austin)')\n",
        "plt.xlabel('Iterations')\n",
        "plt.ylabel('MSE')\n",
        "plt.legend()"
      ],
      "execution_count": null,
      "outputs": [
        {
          "output_type": "stream",
          "text": [
            "iters =  10\n",
            "iters =  20\n",
            "iters =  30\n",
            "iters =  40\n"
          ],
          "name": "stdout"
        },
        {
          "output_type": "execute_result",
          "data": {
            "text/plain": [
              "<matplotlib.legend.Legend at 0x7fad1268bbd0>"
            ]
          },
          "metadata": {
            "tags": []
          },
          "execution_count": 90
        },
        {
          "output_type": "display_data",
          "data": {
            "image/png": "[encoded data removed]",
            "text/plain": [
              "<Figure size 576x360 with 1 Axes>"
            ]
          },
          "metadata": {
            "tags": [],
            "needs_background": "light"
          }
        }
      ]
    },
    {
      "cell_type": "markdown",
      "metadata": {
        "id": "cKpJXQ6zPzXW"
      },
      "source": [
        "Optimal Number of Iterations = 20"
      ]
    },
    {
      "cell_type": "code",
      "metadata": {
        "id": "Xx57JdxYPzXW",
        "colab": {
          "base_uri": "https://localhost:8080/",
          "height": 541
        },
        "outputId": "ad0c1a64-ca91-41f9-8ecc-07360b61e179"
      },
      "source": [
        "k = np.linspace(2, 15, 10, dtype = int)\n",
        "err_sgd_test = []\n",
        "err_sgd_train = []\n",
        "for i in k:\n",
        "    print('k = ', i)\n",
        "    preds_sgd = sgd(np.array(sm_u_10_austin_res_train.todense()), k=i, iterations= 20)\n",
        "    err_test = get_mse(preds_sgd[0], np.array(sm_u_10_austin_res_val.todense()))\n",
        "    err_train = get_mse(preds_sgd[0], np.array(sm_u_10_austin_res_train.todense()))\n",
        "    err_sgd_test.append(err_test)\n",
        "    err_sgd_train.append(err_train)\n",
        "fig = plt.figure(figsize=(8,5))\n",
        "plt.plot(k,err_sgd_test,'b-',label = 'validation')\n",
        "plt.plot(k,err_sgd_train,'r-', label = 'training')\n",
        "plt.title('MSE_sgd vs k (Restaurants in Austin)')\n",
        "plt.xlabel('k')\n",
        "plt.ylabel('MSE')\n",
        "plt.legend()"
      ],
      "execution_count": null,
      "outputs": [
        {
          "output_type": "stream",
          "text": [
            "k =  2\n",
            "k =  3\n",
            "k =  4\n",
            "k =  6\n",
            "k =  7\n",
            "k =  9\n",
            "k =  10\n",
            "k =  12\n",
            "k =  13\n",
            "k =  15\n"
          ],
          "name": "stdout"
        },
        {
          "output_type": "execute_result",
          "data": {
            "text/plain": [
              "<matplotlib.legend.Legend at 0x7fad12662090>"
            ]
          },
          "metadata": {
            "tags": []
          },
          "execution_count": 91
        },
        {
          "output_type": "display_data",
          "data": {
            "image/png": "[encoded data removed]",
            "text/plain": [
              "<Figure size 576x360 with 1 Axes>"
            ]
          },
          "metadata": {
            "tags": [],
            "needs_background": "light"
          }
        }
      ]
    },
    {
      "cell_type": "markdown",
      "metadata": {
        "id": "om1DjAvGPzXW"
      },
      "source": [
        "Optimal K value = 2"
      ]
    },
    {
      "cell_type": "code",
      "metadata": {
        "id": "KSd9rBX4PzXX"
      },
      "source": [
        "predictions_sgd_austin, error_array_sgd_austin, user_vec_sgd_austin, res_vec_sgd_austin = sgd(np.array(sm_u_10_austin_res_train.todense()), k=2, iterations= 20)"
      ],
      "execution_count": null,
      "outputs": []
    },
    {
      "cell_type": "code",
      "metadata": {
        "id": "9769BFC7PzXX",
        "colab": {
          "base_uri": "https://localhost:8080/"
        },
        "outputId": "df8df5b8-672f-4e18-cad8-32c15236b5ea"
      },
      "source": [
        "preds_sgd_austin = sgd(np.array(sm_u_10_austin_res_train.todense()),k=2, iterations= 20)\n",
        "Best_Val_MSE_sgd_austin = get_mse(preds_sgd_austin[0], np.array(sm_u_10_austin_res_val.todense()))\n",
        "print('Best Validation MSE for SGD for Restaurants in Austin= ', Best_Val_MSE_sgd_austin)"
      ],
      "execution_count": null,
      "outputs": [
        {
          "output_type": "stream",
          "text": [
            "Best Validation MSE for SGD for Restaurants in Austin=  2.6401222985696178\n"
          ],
          "name": "stdout"
        }
      ]
    },
    {
      "cell_type": "code",
      "metadata": {
        "collapsed": true,
        "jupyter": {
          "outputs_hidden": true
        },
        "id": "CywvYtn6PzXX"
      },
      "source": [
        "train_preds_sgd_austin = preds_sgd_austin[0][train_austin_nnz]\n",
        "val_preds_sgd_austin = preds_sgd_austin[0][val_austin_nnz]\n",
        "test_preds_sgd_austin = preds_sgd_austin[0][test_austin_nnz]"
      ],
      "execution_count": null,
      "outputs": []
    },
    {
      "cell_type": "markdown",
      "metadata": {
        "id": "3vNvsaZYPzXX"
      },
      "source": [
        "## For Restaurants in Portland"
      ]
    },
    {
      "cell_type": "code",
      "metadata": {
        "id": "nmbSE_vaPzXY",
        "colab": {
          "base_uri": "https://localhost:8080/",
          "height": 437
        },
        "outputId": "5cb14ae6-d258-45dd-bd39-1622aefe6b5d"
      },
      "source": [
        "iters = np.arange(10, 50, 10)\n",
        "err_sgd_test_portland = []\n",
        "err_sgd_train_portland = []\n",
        "for i in iters:\n",
        "    print('iters = ',i)\n",
        "    preds_sgd = sgd(np.array(sm_u_10_portland_res_train.todense()), k=10, iterations= i)\n",
        "    err_test = get_mse(preds_sgd[0], np.array(sm_u_10_portland_res_val.todense()))\n",
        "    err_train = get_mse(preds_sgd[0], np.array(sm_u_10_portland_res_train.todense()))\n",
        "    err_sgd_test_portland.append(err_test)\n",
        "    err_sgd_train_portland.append(err_train)\n",
        "fig = plt.figure(figsize=(8,5))\n",
        "plt.plot(iters,err_sgd_test_portland,'b-',label = 'validation')\n",
        "plt.plot(iters,err_sgd_train_portland,'r-', label = 'training')\n",
        "plt.title('MSE_sgd vs Iterations (Restaurants in Portland)')\n",
        "plt.xlabel('Iterations')\n",
        "plt.ylabel('MSE')\n",
        "plt.legend()"
      ],
      "execution_count": null,
      "outputs": [
        {
          "output_type": "stream",
          "text": [
            "iters =  10\n",
            "iters =  20\n",
            "iters =  30\n",
            "iters =  40\n"
          ],
          "name": "stdout"
        },
        {
          "output_type": "execute_result",
          "data": {
            "text/plain": [
              "<matplotlib.legend.Legend at 0x7fad126e0410>"
            ]
          },
          "metadata": {
            "tags": []
          },
          "execution_count": 95
        },
        {
          "output_type": "display_data",
          "data": {
            "image/png": "[encoded data removed]",
            "text/plain": [
              "<Figure size 576x360 with 1 Axes>"
            ]
          },
          "metadata": {
            "tags": [],
            "needs_background": "light"
          }
        }
      ]
    },
    {
      "cell_type": "markdown",
      "metadata": {
        "id": "kotYvITlPzXY"
      },
      "source": [
        "Optimal Number of Iterations = 30"
      ]
    },
    {
      "cell_type": "code",
      "metadata": {
        "id": "DqgeRDvhPzXY",
        "colab": {
          "base_uri": "https://localhost:8080/",
          "height": 541
        },
        "outputId": "f7f3d0da-7bf1-4960-8048-54810034c427"
      },
      "source": [
        "k = np.linspace(2, 15, 10, dtype = int)\n",
        "err_sgd_val_portland = []\n",
        "err_sgd_train_portland = []\n",
        "for i in k:\n",
        "    print('k=', i)\n",
        "    preds_sgd = sgd(np.array(sm_u_10_portland_res_train.todense()), k=i, iterations= 30)\n",
        "    err_val = get_mse(preds_sgd[0], np.array(sm_u_10_portland_res_val.todense()))\n",
        "    err_train = get_mse(preds_sgd[0], np.array(sm_u_10_portland_res_train.todense()))\n",
        "    err_sgd_val_portland.append(err_val)\n",
        "    err_sgd_train_portland.append(err_train)\n",
        "fig = plt.figure(figsize=(8,5))\n",
        "plt.plot(k,err_sgd_val_portland,'b-',label = 'validation')\n",
        "plt.plot(k,err_sgd_train_portland,'r-', label = 'training')\n",
        "plt.title('MSE_sgd vs k (for Restaurants in Portland)')\n",
        "plt.xlabel('k')\n",
        "plt.ylabel('MSE')\n",
        "plt.legend()"
      ],
      "execution_count": null,
      "outputs": [
        {
          "output_type": "stream",
          "text": [
            "k= 2\n",
            "k= 3\n",
            "k= 4\n",
            "k= 6\n",
            "k= 7\n",
            "k= 9\n",
            "k= 10\n",
            "k= 12\n",
            "k= 13\n",
            "k= 15\n"
          ],
          "name": "stdout"
        },
        {
          "output_type": "execute_result",
          "data": {
            "text/plain": [
              "<matplotlib.legend.Legend at 0x7fad12724510>"
            ]
          },
          "metadata": {
            "tags": []
          },
          "execution_count": 96
        },
        {
          "output_type": "display_data",
          "data": {
            "image/png": "[encoded data removed]",
            "text/plain": [
              "<Figure size 576x360 with 1 Axes>"
            ]
          },
          "metadata": {
            "tags": [],
            "needs_background": "light"
          }
        }
      ]
    },
    {
      "cell_type": "markdown",
      "metadata": {
        "id": "g_njtVP9PzXZ"
      },
      "source": [
        "Optimal k value = 2"
      ]
    },
    {
      "cell_type": "code",
      "metadata": {
        "collapsed": true,
        "jupyter": {
          "outputs_hidden": true
        },
        "id": "8s-VcR56PzXZ"
      },
      "source": [
        "predictions_sgd_portland, error_array_sgd_portland, user_vec_sgd_portland, res_vec_sgd_portland = sgd(np.array(sm_u_10_portland_res_train.todense()), k=2, iterations= 30)"
      ],
      "execution_count": null,
      "outputs": []
    },
    {
      "cell_type": "code",
      "metadata": {
        "id": "_BSA5MX0PzXZ",
        "colab": {
          "base_uri": "https://localhost:8080/"
        },
        "outputId": "e4ce37e0-b122-4832-fe49-841021b9fba3"
      },
      "source": [
        "preds_sgd_portland = sgd(np.array(sm_u_10_portland_res_train.todense()),k=2, iterations=30)\n",
        "Best_Val_MSE_sgd_portland = get_mse(preds_sgd_portland[0], np.array(sm_u_10_portland_res_val.todense()))\n",
        "print('Best Validation MSE for SGD for Restaurants in Portland= ', Best_Val_MSE_sgd_portland)"
      ],
      "execution_count": null,
      "outputs": [
        {
          "output_type": "stream",
          "text": [
            "Best Validation MSE for SGD for Restaurants in Portland=  2.4004604574361914\n"
          ],
          "name": "stdout"
        }
      ]
    },
    {
      "cell_type": "code",
      "metadata": {
        "collapsed": true,
        "jupyter": {
          "outputs_hidden": true
        },
        "id": "GY-ld-ynPzXZ"
      },
      "source": [
        "train_preds_sgd_portland = preds_sgd_portland[0][train_portland_nnz]\n",
        "val_preds_sgd_portland = preds_sgd_portland[0][val_portland_nnz]\n",
        "test_preds_sgd_portland = preds_sgd_portland[0][test_portland_nnz]"
      ],
      "execution_count": null,
      "outputs": []
    }
  ]
}