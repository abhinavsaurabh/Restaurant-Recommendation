{
  "nbformat": 4,
  "nbformat_minor": 0,
  "metadata": {
    "colab": {
      "name": "1. Data Preprocessing Yelp Dataset  .ipynb",
      "provenance": [],
      "collapsed_sections": [],
      "toc_visible": true,
      "machine_shape": "hm"
    },
    "kernelspec": {
      "name": "python3",
      "display_name": "Python 3"
    }
  },
  "cells": [
    {
      "cell_type": "markdown",
      "metadata": {
        "id": "BCFE_ZWVKIaz"
      },
      "source": [
        "##**1. Data Preprocessing**"
      ]
    },
    {
      "cell_type": "code",
      "metadata": {
        "id": "TwAXjVGxHNgR"
      },
      "source": [
        "\n",
        "# Importing Basic Packages\n",
        "\n",
        "import json\n",
        "import csv\n",
        "import matplotlib.pyplot as plt\n",
        "import pandas as pd\n",
        "import seaborn as sns\n",
        "from tqdm import tqdm, tqdm_notebook, tnrange\n",
        "\n",
        "# Display Settings\n",
        "\n",
        "pd.set_option('display.max_columns', 50)"
      ],
      "execution_count": null,
      "outputs": []
    },
    {
      "cell_type": "code",
      "metadata": {
        "colab": {
          "base_uri": "https://localhost:8080/"
        },
        "id": "DPdLgu3QD7m-",
        "outputId": "3a8af37f-2c45-4d88-ccc9-600adea83bb5"
      },
      "source": [
        "\n",
        "# Importing Yelp Business JSON File\n",
        "\n",
        "business = []\n",
        "\n",
        "with open(\"/content/drive/MyDrive/CF Project yelp/yelp_academic_dataset_business.json\") as f:\n",
        "    for line in f:\n",
        "        business.append(json.loads(line))\n",
        "\n",
        "# Length of rows of Data\n",
        "\n",
        "len(business)  "
      ],
      "execution_count": null,
      "outputs": [
        {
          "output_type": "execute_result",
          "data": {
            "text/plain": [
              "160585"
            ]
          },
          "metadata": {
            "tags": []
          },
          "execution_count": 17
        }
      ]
    },
    {
      "cell_type": "code",
      "metadata": {
        "colab": {
          "base_uri": "https://localhost:8080/"
        },
        "id": "D9zHbtZjD8Zs",
        "outputId": "e50fb893-bc07-44a1-fa04-01db4f062e79"
      },
      "source": [
        "business[0]"
      ],
      "execution_count": null,
      "outputs": [
        {
          "output_type": "execute_result",
          "data": {
            "text/plain": [
              "{'address': '921 Pearl St',\n",
              " 'attributes': {'Alcohol': \"'beer_and_wine'\",\n",
              "  'Ambience': \"{'touristy': False, 'hipster': False, 'romantic': False, 'divey': False, 'intimate': False, 'trendy': False, 'upscale': False, 'classy': False, 'casual': True}\",\n",
              "  'BikeParking': 'True',\n",
              "  'BusinessAcceptsBitcoin': 'False',\n",
              "  'BusinessAcceptsCreditCards': 'True',\n",
              "  'BusinessParking': \"{'garage': False, 'street': True, 'validated': False, 'lot': False, 'valet': False}\",\n",
              "  'Caters': 'True',\n",
              "  'DogsAllowed': 'False',\n",
              "  'GoodForMeal': \"{'dessert': False, 'latenight': False, 'lunch': False, 'dinner': False, 'brunch': False, 'breakfast': False}\",\n",
              "  'HappyHour': 'True',\n",
              "  'HasTV': 'True',\n",
              "  'NoiseLevel': \"u'average'\",\n",
              "  'OutdoorSeating': 'True',\n",
              "  'RestaurantsAttire': \"'casual'\",\n",
              "  'RestaurantsDelivery': 'None',\n",
              "  'RestaurantsGoodForGroups': 'True',\n",
              "  'RestaurantsPriceRange2': '2',\n",
              "  'RestaurantsReservations': 'False',\n",
              "  'RestaurantsTableService': 'True',\n",
              "  'RestaurantsTakeOut': 'True',\n",
              "  'WheelchairAccessible': 'True',\n",
              "  'WiFi': \"u'free'\"},\n",
              " 'business_id': '6iYb2HFDywm3zjuRg0shjw',\n",
              " 'categories': 'Gastropubs, Food, Beer Gardens, Restaurants, Bars, American (Traditional), Beer Bar, Nightlife, Breweries',\n",
              " 'city': 'Boulder',\n",
              " 'hours': {'Friday': '11:0-23:0',\n",
              "  'Monday': '11:0-23:0',\n",
              "  'Saturday': '11:0-23:0',\n",
              "  'Sunday': '11:0-23:0',\n",
              "  'Thursday': '11:0-23:0',\n",
              "  'Tuesday': '11:0-23:0',\n",
              "  'Wednesday': '11:0-23:0'},\n",
              " 'is_open': 1,\n",
              " 'latitude': 40.0175444,\n",
              " 'longitude': -105.2833481,\n",
              " 'name': 'Oskar Blues Taproom',\n",
              " 'postal_code': '80302',\n",
              " 'review_count': 86,\n",
              " 'stars': 4.0,\n",
              " 'state': 'CO'}"
            ]
          },
          "metadata": {
            "tags": []
          },
          "execution_count": 18
        }
      ]
    },
    {
      "cell_type": "code",
      "metadata": {
        "colab": {
          "base_uri": "https://localhost:8080/",
          "height": 306
        },
        "id": "uEntLOoNEZuC",
        "outputId": "d489c2a4-2676-40e2-b9c5-523b58f6bf86"
      },
      "source": [
        "\n",
        "## Creating Dataframe for business json file\n",
        "\n",
        "# Creating Columns for our Dataframe\n",
        "\n",
        "business_id = []\n",
        "city = []\n",
        "state = []\n",
        "stars = []\n",
        "review_count = []\n",
        "categories = []\n",
        "postal_code = []\n",
        "latitude = []\n",
        "longitude = []\n",
        "pricerange = []\n",
        "is_open = []\n",
        "name = []\n",
        "\n",
        "# Iterating through each row of the json file\n",
        "\n",
        "for entry in range(0, len(business)): \n",
        "        business_id.append(business[entry]['business_id'])\n",
        "        name.append(business[entry]['name'])\n",
        "        city.append(business[entry]['city'])\n",
        "        state.append(business[entry]['state'])\n",
        "        stars.append(business[entry]['stars'])\n",
        "        postal_code.append(business[entry]['postal_code'])\n",
        "        review_count.append(business[entry]['review_count'])\n",
        "        categories.append(business[entry]['categories'])\n",
        "        latitude.append(business[entry]['latitude'])\n",
        "        longitude.append(business[entry]['longitude'])\n",
        "        is_open.append(business[entry]['is_open'])\n",
        "\n",
        "\n",
        "business = {'business_id ':business_id,'name':name,'city':city,'state':state,'stars':stars,'review_count':review_count,\n",
        "        'categories':categories,'latitude':latitude,'longitude':longitude,'is_open':is_open, 'postal_code':postal_code}\n",
        "\n",
        "business_df  = pd.DataFrame(business)\n",
        "\n",
        "#business_df.to_csv('/content/drive/MyDrive/CF Project yelp/CSV/business.csv')\n",
        "\n",
        "# Overview of our Business Dataframe\n",
        "\n",
        "print(business_df.shape) \n",
        "business_df.head()"
      ],
      "execution_count": null,
      "outputs": [
        {
          "output_type": "stream",
          "text": [
            "(160585, 11)\n"
          ],
          "name": "stdout"
        },
        {
          "output_type": "execute_result",
          "data": {
            "text/html": [
              "<div>\n",
              "<style scoped>\n",
              "    .dataframe tbody tr th:only-of-type {\n",
              "        vertical-align: middle;\n",
              "    }\n",
              "\n",
              "    .dataframe tbody tr th {\n",
              "        vertical-align: top;\n",
              "    }\n",
              "\n",
              "    .dataframe thead th {\n",
              "        text-align: right;\n",
              "    }\n",
              "</style>\n",
              "<table border=\"1\" class=\"dataframe\">\n",
              "  <thead>\n",
              "    <tr style=\"text-align: right;\">\n",
              "      <th></th>\n",
              "      <th>business_id</th>\n",
              "      <th>name</th>\n",
              "      <th>city</th>\n",
              "      <th>state</th>\n",
              "      <th>stars</th>\n",
              "      <th>review_count</th>\n",
              "      <th>categories</th>\n",
              "      <th>latitude</th>\n",
              "      <th>longitude</th>\n",
              "      <th>is_open</th>\n",
              "      <th>postal_code</th>\n",
              "    </tr>\n",
              "  </thead>\n",
              "  <tbody>\n",
              "    <tr>\n",
              "      <th>0</th>\n",
              "      <td>6iYb2HFDywm3zjuRg0shjw</td>\n",
              "      <td>Oskar Blues Taproom</td>\n",
              "      <td>Boulder</td>\n",
              "      <td>CO</td>\n",
              "      <td>4.0</td>\n",
              "      <td>86</td>\n",
              "      <td>Gastropubs, Food, Beer Gardens, Restaurants, B...</td>\n",
              "      <td>40.017544</td>\n",
              "      <td>-105.283348</td>\n",
              "      <td>1</td>\n",
              "      <td>80302</td>\n",
              "    </tr>\n",
              "    <tr>\n",
              "      <th>1</th>\n",
              "      <td>tCbdrRPZA0oiIYSmHG3J0w</td>\n",
              "      <td>Flying Elephants at PDX</td>\n",
              "      <td>Portland</td>\n",
              "      <td>OR</td>\n",
              "      <td>4.0</td>\n",
              "      <td>126</td>\n",
              "      <td>Salad, Soup, Sandwiches, Delis, Restaurants, C...</td>\n",
              "      <td>45.588906</td>\n",
              "      <td>-122.593331</td>\n",
              "      <td>1</td>\n",
              "      <td>97218</td>\n",
              "    </tr>\n",
              "    <tr>\n",
              "      <th>2</th>\n",
              "      <td>bvN78flM8NLprQ1a1y5dRg</td>\n",
              "      <td>The Reclaimory</td>\n",
              "      <td>Portland</td>\n",
              "      <td>OR</td>\n",
              "      <td>4.5</td>\n",
              "      <td>13</td>\n",
              "      <td>Antiques, Fashion, Used, Vintage &amp; Consignment...</td>\n",
              "      <td>45.511907</td>\n",
              "      <td>-122.613693</td>\n",
              "      <td>1</td>\n",
              "      <td>97214</td>\n",
              "    </tr>\n",
              "    <tr>\n",
              "      <th>3</th>\n",
              "      <td>oaepsyvc0J17qwi8cfrOWg</td>\n",
              "      <td>Great Clips</td>\n",
              "      <td>Orange City</td>\n",
              "      <td>FL</td>\n",
              "      <td>3.0</td>\n",
              "      <td>8</td>\n",
              "      <td>Beauty &amp; Spas, Hair Salons</td>\n",
              "      <td>28.914482</td>\n",
              "      <td>-81.295979</td>\n",
              "      <td>1</td>\n",
              "      <td>32763</td>\n",
              "    </tr>\n",
              "    <tr>\n",
              "      <th>4</th>\n",
              "      <td>PE9uqAjdw0E4-8mjGl3wVA</td>\n",
              "      <td>Crossfit Terminus</td>\n",
              "      <td>Atlanta</td>\n",
              "      <td>GA</td>\n",
              "      <td>4.0</td>\n",
              "      <td>14</td>\n",
              "      <td>Gyms, Active Life, Interval Training Gyms, Fit...</td>\n",
              "      <td>33.747027</td>\n",
              "      <td>-84.353424</td>\n",
              "      <td>1</td>\n",
              "      <td>30316</td>\n",
              "    </tr>\n",
              "  </tbody>\n",
              "</table>\n",
              "</div>"
            ],
            "text/plain": [
              "             business_id                      name         city state  stars  \\\n",
              "0  6iYb2HFDywm3zjuRg0shjw      Oskar Blues Taproom      Boulder    CO    4.0   \n",
              "1  tCbdrRPZA0oiIYSmHG3J0w  Flying Elephants at PDX     Portland    OR    4.0   \n",
              "2  bvN78flM8NLprQ1a1y5dRg           The Reclaimory     Portland    OR    4.5   \n",
              "3  oaepsyvc0J17qwi8cfrOWg              Great Clips  Orange City    FL    3.0   \n",
              "4  PE9uqAjdw0E4-8mjGl3wVA        Crossfit Terminus      Atlanta    GA    4.0   \n",
              "\n",
              "   review_count                                         categories   latitude  \\\n",
              "0            86  Gastropubs, Food, Beer Gardens, Restaurants, B...  40.017544   \n",
              "1           126  Salad, Soup, Sandwiches, Delis, Restaurants, C...  45.588906   \n",
              "2            13  Antiques, Fashion, Used, Vintage & Consignment...  45.511907   \n",
              "3             8                         Beauty & Spas, Hair Salons  28.914482   \n",
              "4            14  Gyms, Active Life, Interval Training Gyms, Fit...  33.747027   \n",
              "\n",
              "    longitude  is_open postal_code  \n",
              "0 -105.283348        1       80302  \n",
              "1 -122.593331        1       97218  \n",
              "2 -122.613693        1       97214  \n",
              "3  -81.295979        1       32763  \n",
              "4  -84.353424        1       30316  "
            ]
          },
          "metadata": {
            "tags": []
          },
          "execution_count": 19
        }
      ]
    },
    {
      "cell_type": "code",
      "metadata": {
        "colab": {
          "base_uri": "https://localhost:8080/"
        },
        "id": "kcHvEXxREbZs",
        "outputId": "92d2945c-b17c-4088-f534-12f8f5cda5df"
      },
      "source": [
        "# Overview of Business/Restaurant Categories\n",
        "\n",
        "business_categories = business_df.assign(categories = business_df.categories.str.split(', ')).explode('categories')\n",
        "\n",
        "print(str('The number of unique business categories is:'), len(business_categories))\n",
        "\n",
        "# Most Common Business Categories\n",
        "\n",
        "business_categories.categories.value_counts().head(25)"
      ],
      "execution_count": null,
      "outputs": [
        {
          "output_type": "stream",
          "text": [
            "The number of unique business categories is: 709083\n"
          ],
          "name": "stdout"
        },
        {
          "output_type": "execute_result",
          "data": {
            "text/plain": [
              "Restaurants                  50763\n",
              "Food                         29469\n",
              "Shopping                     26205\n",
              "Beauty & Spas                16574\n",
              "Home Services                16465\n",
              "Health & Medical             15102\n",
              "Local Services               12192\n",
              "Nightlife                    11990\n",
              "Bars                         10741\n",
              "Automotive                   10119\n",
              "Event Planning & Services     9644\n",
              "Active Life                   9231\n",
              "Coffee & Tea                  7725\n",
              "Sandwiches                    7272\n",
              "Fashion                       6599\n",
              "American (Traditional)        6541\n",
              "Hair Salons                   5900\n",
              "Pizza                         5756\n",
              "Hotels & Travel               5703\n",
              "Breakfast & Brunch            5505\n",
              "Home & Garden                 5499\n",
              "American (New)                5458\n",
              "Real Estate                   5361\n",
              "Arts & Entertainment          5314\n",
              "Fast Food                     5300\n",
              "Name: categories, dtype: int64"
            ]
          },
          "metadata": {
            "tags": []
          },
          "execution_count": 21
        }
      ]
    },
    {
      "cell_type": "code",
      "metadata": {
        "colab": {
          "base_uri": "https://localhost:8080/",
          "height": 289
        },
        "id": "8Humjf-nEdn8",
        "outputId": "9850de66-7542-432e-cb10-1e5c79aca9d6"
      },
      "source": [
        "\n",
        "# Filtering for Restaurant Food Businesses\n",
        "\n",
        "business_food = business_df[business_df['categories'].str.contains('Restaurants|Fast Food|Breakfast & Brunch|Cafes',\n",
        "                case=False, na=False)]\n",
        "\n",
        "# Filtering only for Restaurants that are still open for business, open = 1, closed = 0\n",
        "\n",
        "business_food = business_food[business_food['is_open']==1]\n",
        "business_food.head()"
      ],
      "execution_count": null,
      "outputs": [
        {
          "output_type": "execute_result",
          "data": {
            "text/html": [
              "<div>\n",
              "<style scoped>\n",
              "    .dataframe tbody tr th:only-of-type {\n",
              "        vertical-align: middle;\n",
              "    }\n",
              "\n",
              "    .dataframe tbody tr th {\n",
              "        vertical-align: top;\n",
              "    }\n",
              "\n",
              "    .dataframe thead th {\n",
              "        text-align: right;\n",
              "    }\n",
              "</style>\n",
              "<table border=\"1\" class=\"dataframe\">\n",
              "  <thead>\n",
              "    <tr style=\"text-align: right;\">\n",
              "      <th></th>\n",
              "      <th>business_id</th>\n",
              "      <th>name</th>\n",
              "      <th>city</th>\n",
              "      <th>state</th>\n",
              "      <th>stars</th>\n",
              "      <th>review_count</th>\n",
              "      <th>categories</th>\n",
              "      <th>latitude</th>\n",
              "      <th>longitude</th>\n",
              "      <th>is_open</th>\n",
              "      <th>postal_code</th>\n",
              "    </tr>\n",
              "  </thead>\n",
              "  <tbody>\n",
              "    <tr>\n",
              "      <th>0</th>\n",
              "      <td>6iYb2HFDywm3zjuRg0shjw</td>\n",
              "      <td>Oskar Blues Taproom</td>\n",
              "      <td>Boulder</td>\n",
              "      <td>CO</td>\n",
              "      <td>4.0</td>\n",
              "      <td>86</td>\n",
              "      <td>Gastropubs, Food, Beer Gardens, Restaurants, B...</td>\n",
              "      <td>40.017544</td>\n",
              "      <td>-105.283348</td>\n",
              "      <td>1</td>\n",
              "      <td>80302</td>\n",
              "    </tr>\n",
              "    <tr>\n",
              "      <th>1</th>\n",
              "      <td>tCbdrRPZA0oiIYSmHG3J0w</td>\n",
              "      <td>Flying Elephants at PDX</td>\n",
              "      <td>Portland</td>\n",
              "      <td>OR</td>\n",
              "      <td>4.0</td>\n",
              "      <td>126</td>\n",
              "      <td>Salad, Soup, Sandwiches, Delis, Restaurants, C...</td>\n",
              "      <td>45.588906</td>\n",
              "      <td>-122.593331</td>\n",
              "      <td>1</td>\n",
              "      <td>97218</td>\n",
              "    </tr>\n",
              "    <tr>\n",
              "      <th>5</th>\n",
              "      <td>D4JtQNTI4X3KcbzacDJsMw</td>\n",
              "      <td>Bob Likes Thai Food</td>\n",
              "      <td>Vancouver</td>\n",
              "      <td>BC</td>\n",
              "      <td>3.5</td>\n",
              "      <td>169</td>\n",
              "      <td>Restaurants, Thai</td>\n",
              "      <td>49.251342</td>\n",
              "      <td>-123.101333</td>\n",
              "      <td>1</td>\n",
              "      <td>V5V</td>\n",
              "    </tr>\n",
              "    <tr>\n",
              "      <th>7</th>\n",
              "      <td>jFYIsSb7r1QeESVUnXPHBw</td>\n",
              "      <td>Boxwood Biscuit</td>\n",
              "      <td>Columbus</td>\n",
              "      <td>OH</td>\n",
              "      <td>4.5</td>\n",
              "      <td>11</td>\n",
              "      <td>Breakfast &amp; Brunch, Restaurants</td>\n",
              "      <td>39.947007</td>\n",
              "      <td>-82.997471</td>\n",
              "      <td>1</td>\n",
              "      <td>43206</td>\n",
              "    </tr>\n",
              "    <tr>\n",
              "      <th>12</th>\n",
              "      <td>HPA_qyMEddpAEtFof02ixg</td>\n",
              "      <td>Mr G's Pizza &amp; Subs</td>\n",
              "      <td>Peabody</td>\n",
              "      <td>MA</td>\n",
              "      <td>4.0</td>\n",
              "      <td>39</td>\n",
              "      <td>Food, Pizza, Restaurants</td>\n",
              "      <td>42.541155</td>\n",
              "      <td>-70.973438</td>\n",
              "      <td>1</td>\n",
              "      <td>01960</td>\n",
              "    </tr>\n",
              "  </tbody>\n",
              "</table>\n",
              "</div>"
            ],
            "text/plain": [
              "              business_id                      name       city state  stars  \\\n",
              "0   6iYb2HFDywm3zjuRg0shjw      Oskar Blues Taproom    Boulder    CO    4.0   \n",
              "1   tCbdrRPZA0oiIYSmHG3J0w  Flying Elephants at PDX   Portland    OR    4.0   \n",
              "5   D4JtQNTI4X3KcbzacDJsMw      Bob Likes Thai Food  Vancouver    BC    3.5   \n",
              "7   jFYIsSb7r1QeESVUnXPHBw          Boxwood Biscuit   Columbus    OH    4.5   \n",
              "12  HPA_qyMEddpAEtFof02ixg      Mr G's Pizza & Subs    Peabody    MA    4.0   \n",
              "\n",
              "    review_count                                         categories  \\\n",
              "0             86  Gastropubs, Food, Beer Gardens, Restaurants, B...   \n",
              "1            126  Salad, Soup, Sandwiches, Delis, Restaurants, C...   \n",
              "5            169                                  Restaurants, Thai   \n",
              "7             11                    Breakfast & Brunch, Restaurants   \n",
              "12            39                           Food, Pizza, Restaurants   \n",
              "\n",
              "     latitude   longitude  is_open postal_code  \n",
              "0   40.017544 -105.283348        1       80302  \n",
              "1   45.588906 -122.593331        1       97218  \n",
              "5   49.251342 -123.101333        1         V5V  \n",
              "7   39.947007  -82.997471        1       43206  \n",
              "12  42.541155  -70.973438        1       01960  "
            ]
          },
          "metadata": {
            "tags": []
          },
          "execution_count": 22
        }
      ]
    },
    {
      "cell_type": "code",
      "metadata": {
        "colab": {
          "base_uri": "https://localhost:8080/"
        },
        "id": "Q4oYeHTuEf3z",
        "outputId": "ae1d2e90-dfa1-4e8f-d981-6812f7ee2a3c"
      },
      "source": [
        "business_food.shape"
      ],
      "execution_count": null,
      "outputs": [
        {
          "output_type": "execute_result",
          "data": {
            "text/plain": [
              "(32053, 11)"
            ]
          },
          "metadata": {
            "tags": []
          },
          "execution_count": 23
        }
      ]
    },
    {
      "cell_type": "code",
      "metadata": {
        "colab": {
          "base_uri": "https://localhost:8080/"
        },
        "id": "azQJS_N4Ehxb",
        "outputId": "fc4496b1-fedd-4bdd-d107-cfd35cbd6d3d"
      },
      "source": [
        "\n",
        "# Top States that have the most number of Restaurant Businesses in this dataset\n",
        "\n",
        "top_states = business_food['state'].value_counts().head(10)\n",
        "top_states"
      ],
      "execution_count": null,
      "outputs": [
        {
          "output_type": "execute_result",
          "data": {
            "text/plain": [
              "MA    6467\n",
              "FL    5401\n",
              "BC    4731\n",
              "OR    4229\n",
              "GA    3923\n",
              "TX    3158\n",
              "OH    3108\n",
              "WA     532\n",
              "CO     497\n",
              "MN       1\n",
              "Name: state, dtype: int64"
            ]
          },
          "metadata": {
            "tags": []
          },
          "execution_count": 24
        }
      ]
    },
    {
      "cell_type": "code",
      "metadata": {
        "colab": {
          "base_uri": "https://localhost:8080/"
        },
        "id": "1ngxTJrOElBf",
        "outputId": "9b0ba22a-d3fa-4102-dde2-65039eaee5b6"
      },
      "source": [
        "# Top Cities that have the most number of Restaurant Businesses in this dataset\n",
        "\n",
        "top_cities = business_food['city'].value_counts().head(20)\n",
        "top_cities"
      ],
      "execution_count": null,
      "outputs": [
        {
          "output_type": "execute_result",
          "data": {
            "text/plain": [
              "Portland           3115\n",
              "Vancouver          2976\n",
              "Austin             2836\n",
              "Orlando            2568\n",
              "Atlanta            2551\n",
              "Columbus           1789\n",
              "Boston             1656\n",
              "Richmond            601\n",
              "Kissimmee           525\n",
              "Burnaby             482\n",
              "Cambridge           429\n",
              "Boulder             370\n",
              "Beaverton           362\n",
              "Decatur             328\n",
              "North Vancouver     265\n",
              "Somerville          241\n",
              "Surrey              239\n",
              "Winter Park         227\n",
              "Coquitlam           226\n",
              "Quincy              188\n",
              "Name: city, dtype: int64"
            ]
          },
          "metadata": {
            "tags": []
          },
          "execution_count": 25
        }
      ]
    },
    {
      "cell_type": "code",
      "metadata": {
        "colab": {
          "base_uri": "https://localhost:8080/"
        },
        "id": "Lb-2BR9YEuGs",
        "outputId": "d008b5b0-36ed-44f7-d134-323a84a57ddb"
      },
      "source": [
        "\n",
        "# Importing Review JSON File\n",
        "\n",
        "reviews = []\n",
        "\n",
        "with open('/content/drive/MyDrive/CF Project yelp/yelp_academic_dataset_review.json') as f:\n",
        "    for line in f:\n",
        "        reviews.append(json.loads(line))\n",
        "\n",
        "# Length of rows of Data        \n",
        "\n",
        "len(reviews)  # 8,021,122 reviews"
      ],
      "execution_count": null,
      "outputs": [
        {
          "output_type": "execute_result",
          "data": {
            "text/plain": [
              "8635403"
            ]
          },
          "metadata": {
            "tags": []
          },
          "execution_count": 28
        }
      ]
    },
    {
      "cell_type": "code",
      "metadata": {
        "colab": {
          "base_uri": "https://localhost:8080/"
        },
        "id": "oYMvzfryEzFa",
        "outputId": "a3867433-7747-47fb-c7e2-c37c6725c710"
      },
      "source": [
        "\n",
        "# Overview of columns of each entry of the Review file\n",
        "\n",
        "reviews[0]"
      ],
      "execution_count": null,
      "outputs": [
        {
          "output_type": "execute_result",
          "data": {
            "text/plain": [
              "{'business_id': 'buF9druCkbuXLX526sGELQ',\n",
              " 'cool': 1,\n",
              " 'date': '2014-10-11 03:34:02',\n",
              " 'funny': 1,\n",
              " 'review_id': 'lWC-xP3rd6obsecCYsGZRg',\n",
              " 'stars': 4.0,\n",
              " 'text': \"Apparently Prides Osteria had a rough summer as evidenced by the almost empty dining room at 6:30 on a Friday night. However new blood in the kitchen seems to have revitalized the food from other customers recent visits. Waitstaff was warm but unobtrusive. By 8 pm or so when we left the bar was full and the dining room was much more lively than it had been. Perhaps Beverly residents prefer a later seating. \\n\\nAfter reading the mixed reviews of late I was a little tentative over our choice but luckily there was nothing to worry about in the food department. We started with the fried dough, burrata and prosciutto which were all lovely. Then although they don't offer half portions of pasta we each ordered the entree size and split them. We chose the tagliatelle bolognese and a four cheese filled pasta in a creamy sauce with bacon, asparagus and grana frita. Both were very good. We split a secondi which was the special Berkshire pork secreto, which was described as a pork skirt steak with garlic potato purée and romanesco broccoli (incorrectly described as a romanesco sauce). Some tables received bread before the meal but for some reason we did not. \\n\\nManagement also seems capable for when the tenants in the apartment above began playing basketball she intervened and also comped the tables a dessert. We ordered the apple dumpling with gelato and it was also quite tasty. Portions are not huge which I particularly like because I prefer to order courses. If you are someone who orders just a meal you may leave hungry depending on you appetite. Dining room was mostly younger crowd while the bar was definitely the over 40 set. Would recommend that the naysayers return to see the improvement although I personally don't know the former glory to be able to compare. Easy access to downtown Salem without the crowds on this month of October.\",\n",
              " 'useful': 3,\n",
              " 'user_id': 'ak0TdVmGKo4pwqdJSTLwWw'}"
            ]
          },
          "metadata": {
            "tags": []
          },
          "execution_count": 29
        }
      ]
    },
    {
      "cell_type": "code",
      "metadata": {
        "colab": {
          "base_uri": "https://localhost:8080/",
          "height": 306
        },
        "id": "YOj-Oct3E1EC",
        "outputId": "5de8b0e6-2b20-4a5a-aaf5-63c917daa742"
      },
      "source": [
        "\n",
        "## Creating Dataframe for review json file\n",
        "\n",
        "# Creating Columns for Dataframe\n",
        "\n",
        "reviewid = []\n",
        "businessid= []\n",
        "userid = []\n",
        "stars = []\n",
        "useful = []\n",
        "funny = []\n",
        "cool = []\n",
        "text = []\n",
        "date = []\n",
        "\n",
        "# Iterating through each row of the json file\n",
        "\n",
        "for entry in range(0, len(reviews)):     \n",
        "    reviewid.append(reviews[entry]['review_id'])\n",
        "    businessid.append(reviews[entry]['business_id'])\n",
        "    userid.append(reviews[entry]['user_id'])\n",
        "    stars.append(reviews[entry]['stars'])\n",
        "    text.append(reviews[entry]['text'])\n",
        "    date.append(reviews[entry]['date'])\n",
        "    useful.append(reviews[entry]['useful'])\n",
        "    funny.append(reviews[entry]['funny'])\n",
        "    cool.append(reviews[entry]['cool'])\n",
        "    \n",
        "reviews = {'review_id':reviewid,'business_id':businessid,'user_id':userid,'stars':stars,'useful':useful,'funny':funny,\n",
        "           'cool':cool,'text':text,'date':date}\n",
        "\n",
        "reviews_df  = pd.DataFrame(reviews)\n",
        "\n",
        "# Overview of our Review Dataframe\n",
        "\n",
        "print(reviews_df.shape)\n",
        "reviews_df.to_csv('/content/drive/MyDrive/CF Project yelp/CSV/business.csv')\n",
        "reviews_df.head()"
      ],
      "execution_count": null,
      "outputs": [
        {
          "output_type": "stream",
          "text": [
            "(8635403, 9)\n"
          ],
          "name": "stdout"
        },
        {
          "output_type": "execute_result",
          "data": {
            "text/html": [
              "<div>\n",
              "<style scoped>\n",
              "    .dataframe tbody tr th:only-of-type {\n",
              "        vertical-align: middle;\n",
              "    }\n",
              "\n",
              "    .dataframe tbody tr th {\n",
              "        vertical-align: top;\n",
              "    }\n",
              "\n",
              "    .dataframe thead th {\n",
              "        text-align: right;\n",
              "    }\n",
              "</style>\n",
              "<table border=\"1\" class=\"dataframe\">\n",
              "  <thead>\n",
              "    <tr style=\"text-align: right;\">\n",
              "      <th></th>\n",
              "      <th>review_id</th>\n",
              "      <th>business_id</th>\n",
              "      <th>user_id</th>\n",
              "      <th>stars</th>\n",
              "      <th>useful</th>\n",
              "      <th>funny</th>\n",
              "      <th>cool</th>\n",
              "      <th>text</th>\n",
              "      <th>date</th>\n",
              "    </tr>\n",
              "  </thead>\n",
              "  <tbody>\n",
              "    <tr>\n",
              "      <th>0</th>\n",
              "      <td>lWC-xP3rd6obsecCYsGZRg</td>\n",
              "      <td>buF9druCkbuXLX526sGELQ</td>\n",
              "      <td>ak0TdVmGKo4pwqdJSTLwWw</td>\n",
              "      <td>4.0</td>\n",
              "      <td>3</td>\n",
              "      <td>1</td>\n",
              "      <td>1</td>\n",
              "      <td>Apparently Prides Osteria had a rough summer a...</td>\n",
              "      <td>2014-10-11 03:34:02</td>\n",
              "    </tr>\n",
              "    <tr>\n",
              "      <th>1</th>\n",
              "      <td>8bFej1QE5LXp4O05qjGqXA</td>\n",
              "      <td>RA4V8pr014UyUbDvI-LW2A</td>\n",
              "      <td>YoVfDbnISlW0f7abNQACIg</td>\n",
              "      <td>4.0</td>\n",
              "      <td>1</td>\n",
              "      <td>0</td>\n",
              "      <td>0</td>\n",
              "      <td>This store is pretty good. Not as great as Wal...</td>\n",
              "      <td>2015-07-03 20:38:25</td>\n",
              "    </tr>\n",
              "    <tr>\n",
              "      <th>2</th>\n",
              "      <td>NDhkzczKjLshODbqDoNLSg</td>\n",
              "      <td>_sS2LBIGNT5NQb6PD1Vtjw</td>\n",
              "      <td>eC5evKn1TWDyHCyQAwguUw</td>\n",
              "      <td>5.0</td>\n",
              "      <td>0</td>\n",
              "      <td>0</td>\n",
              "      <td>0</td>\n",
              "      <td>I called WVM on the recommendation of a couple...</td>\n",
              "      <td>2013-05-28 20:38:06</td>\n",
              "    </tr>\n",
              "    <tr>\n",
              "      <th>3</th>\n",
              "      <td>T5fAqjjFooT4V0OeZyuk1w</td>\n",
              "      <td>0AzLzHfOJgL7ROwhdww2ew</td>\n",
              "      <td>SFQ1jcnGguO0LYWnbbftAA</td>\n",
              "      <td>2.0</td>\n",
              "      <td>1</td>\n",
              "      <td>1</td>\n",
              "      <td>1</td>\n",
              "      <td>I've stayed at many Marriott and Renaissance M...</td>\n",
              "      <td>2010-01-08 02:29:15</td>\n",
              "    </tr>\n",
              "    <tr>\n",
              "      <th>4</th>\n",
              "      <td>sjm_uUcQVxab_EeLCqsYLg</td>\n",
              "      <td>8zehGz9jnxPqXtOc7KaJxA</td>\n",
              "      <td>0kA0PAJ8QFMeveQWHFqz2A</td>\n",
              "      <td>4.0</td>\n",
              "      <td>0</td>\n",
              "      <td>0</td>\n",
              "      <td>0</td>\n",
              "      <td>The food is always great here. The service fro...</td>\n",
              "      <td>2011-07-28 18:05:01</td>\n",
              "    </tr>\n",
              "  </tbody>\n",
              "</table>\n",
              "</div>"
            ],
            "text/plain": [
              "                review_id             business_id                 user_id  \\\n",
              "0  lWC-xP3rd6obsecCYsGZRg  buF9druCkbuXLX526sGELQ  ak0TdVmGKo4pwqdJSTLwWw   \n",
              "1  8bFej1QE5LXp4O05qjGqXA  RA4V8pr014UyUbDvI-LW2A  YoVfDbnISlW0f7abNQACIg   \n",
              "2  NDhkzczKjLshODbqDoNLSg  _sS2LBIGNT5NQb6PD1Vtjw  eC5evKn1TWDyHCyQAwguUw   \n",
              "3  T5fAqjjFooT4V0OeZyuk1w  0AzLzHfOJgL7ROwhdww2ew  SFQ1jcnGguO0LYWnbbftAA   \n",
              "4  sjm_uUcQVxab_EeLCqsYLg  8zehGz9jnxPqXtOc7KaJxA  0kA0PAJ8QFMeveQWHFqz2A   \n",
              "\n",
              "   stars  useful  funny  cool  \\\n",
              "0    4.0       3      1     1   \n",
              "1    4.0       1      0     0   \n",
              "2    5.0       0      0     0   \n",
              "3    2.0       1      1     1   \n",
              "4    4.0       0      0     0   \n",
              "\n",
              "                                                text                 date  \n",
              "0  Apparently Prides Osteria had a rough summer a...  2014-10-11 03:34:02  \n",
              "1  This store is pretty good. Not as great as Wal...  2015-07-03 20:38:25  \n",
              "2  I called WVM on the recommendation of a couple...  2013-05-28 20:38:06  \n",
              "3  I've stayed at many Marriott and Renaissance M...  2010-01-08 02:29:15  \n",
              "4  The food is always great here. The service fro...  2011-07-28 18:05:01  "
            ]
          },
          "metadata": {
            "tags": []
          },
          "execution_count": 30
        }
      ]
    },
    {
      "cell_type": "code",
      "metadata": {
        "id": "j4xdtcWEUCq7"
      },
      "source": [
        "reviews_df.to_csv('/content/drive/MyDrive/CF Project yelp/CSV/review.csv')"
      ],
      "execution_count": null,
      "outputs": []
    },
    {
      "cell_type": "code",
      "metadata": {
        "colab": {
          "base_uri": "https://localhost:8080/",
          "height": 500
        },
        "id": "XDXyR6EkE3KF",
        "outputId": "aa602fef-04ee-4f4d-862e-77c5113ca4c5"
      },
      "source": [
        "\n",
        "# Splitting Date Column into Year, Month and Time Columns\n",
        "\n",
        "def create_yr(x): \n",
        "    return x.split('-')[0] \n",
        "\n",
        "def create_mth(x): \n",
        "    return x.split('-')[1] \n",
        "\n",
        "def create_time(x):\n",
        "    return x.split(' ')[1]\n",
        "\n",
        "reviews_df['year'] = reviews_df.date.apply(create_yr)\n",
        "reviews_df['month'] = reviews_df.date.apply(create_mth)\n",
        "reviews_df['time'] = reviews_df.date.apply(create_time)\n",
        "\n",
        "# Overview of new df with 3 new columns\n",
        "\n",
        "reviews_df.head()"
      ],
      "execution_count": null,
      "outputs": [
        {
          "output_type": "execute_result",
          "data": {
            "text/html": [
              "<div>\n",
              "<style scoped>\n",
              "    .dataframe tbody tr th:only-of-type {\n",
              "        vertical-align: middle;\n",
              "    }\n",
              "\n",
              "    .dataframe tbody tr th {\n",
              "        vertical-align: top;\n",
              "    }\n",
              "\n",
              "    .dataframe thead th {\n",
              "        text-align: right;\n",
              "    }\n",
              "</style>\n",
              "<table border=\"1\" class=\"dataframe\">\n",
              "  <thead>\n",
              "    <tr style=\"text-align: right;\">\n",
              "      <th></th>\n",
              "      <th>review_id</th>\n",
              "      <th>business_id</th>\n",
              "      <th>user_id</th>\n",
              "      <th>stars</th>\n",
              "      <th>useful</th>\n",
              "      <th>funny</th>\n",
              "      <th>cool</th>\n",
              "      <th>text</th>\n",
              "      <th>date</th>\n",
              "      <th>year</th>\n",
              "      <th>month</th>\n",
              "      <th>time</th>\n",
              "    </tr>\n",
              "  </thead>\n",
              "  <tbody>\n",
              "    <tr>\n",
              "      <th>0</th>\n",
              "      <td>lWC-xP3rd6obsecCYsGZRg</td>\n",
              "      <td>buF9druCkbuXLX526sGELQ</td>\n",
              "      <td>ak0TdVmGKo4pwqdJSTLwWw</td>\n",
              "      <td>4.0</td>\n",
              "      <td>3</td>\n",
              "      <td>1</td>\n",
              "      <td>1</td>\n",
              "      <td>Apparently Prides Osteria had a rough summer a...</td>\n",
              "      <td>2014-10-11 03:34:02</td>\n",
              "      <td>2014</td>\n",
              "      <td>10</td>\n",
              "      <td>03:34:02</td>\n",
              "    </tr>\n",
              "    <tr>\n",
              "      <th>1</th>\n",
              "      <td>8bFej1QE5LXp4O05qjGqXA</td>\n",
              "      <td>RA4V8pr014UyUbDvI-LW2A</td>\n",
              "      <td>YoVfDbnISlW0f7abNQACIg</td>\n",
              "      <td>4.0</td>\n",
              "      <td>1</td>\n",
              "      <td>0</td>\n",
              "      <td>0</td>\n",
              "      <td>This store is pretty good. Not as great as Wal...</td>\n",
              "      <td>2015-07-03 20:38:25</td>\n",
              "      <td>2015</td>\n",
              "      <td>07</td>\n",
              "      <td>20:38:25</td>\n",
              "    </tr>\n",
              "    <tr>\n",
              "      <th>2</th>\n",
              "      <td>NDhkzczKjLshODbqDoNLSg</td>\n",
              "      <td>_sS2LBIGNT5NQb6PD1Vtjw</td>\n",
              "      <td>eC5evKn1TWDyHCyQAwguUw</td>\n",
              "      <td>5.0</td>\n",
              "      <td>0</td>\n",
              "      <td>0</td>\n",
              "      <td>0</td>\n",
              "      <td>I called WVM on the recommendation of a couple...</td>\n",
              "      <td>2013-05-28 20:38:06</td>\n",
              "      <td>2013</td>\n",
              "      <td>05</td>\n",
              "      <td>20:38:06</td>\n",
              "    </tr>\n",
              "    <tr>\n",
              "      <th>3</th>\n",
              "      <td>T5fAqjjFooT4V0OeZyuk1w</td>\n",
              "      <td>0AzLzHfOJgL7ROwhdww2ew</td>\n",
              "      <td>SFQ1jcnGguO0LYWnbbftAA</td>\n",
              "      <td>2.0</td>\n",
              "      <td>1</td>\n",
              "      <td>1</td>\n",
              "      <td>1</td>\n",
              "      <td>I've stayed at many Marriott and Renaissance M...</td>\n",
              "      <td>2010-01-08 02:29:15</td>\n",
              "      <td>2010</td>\n",
              "      <td>01</td>\n",
              "      <td>02:29:15</td>\n",
              "    </tr>\n",
              "    <tr>\n",
              "      <th>4</th>\n",
              "      <td>sjm_uUcQVxab_EeLCqsYLg</td>\n",
              "      <td>8zehGz9jnxPqXtOc7KaJxA</td>\n",
              "      <td>0kA0PAJ8QFMeveQWHFqz2A</td>\n",
              "      <td>4.0</td>\n",
              "      <td>0</td>\n",
              "      <td>0</td>\n",
              "      <td>0</td>\n",
              "      <td>The food is always great here. The service fro...</td>\n",
              "      <td>2011-07-28 18:05:01</td>\n",
              "      <td>2011</td>\n",
              "      <td>07</td>\n",
              "      <td>18:05:01</td>\n",
              "    </tr>\n",
              "  </tbody>\n",
              "</table>\n",
              "</div>"
            ],
            "text/plain": [
              "                review_id             business_id                 user_id  \\\n",
              "0  lWC-xP3rd6obsecCYsGZRg  buF9druCkbuXLX526sGELQ  ak0TdVmGKo4pwqdJSTLwWw   \n",
              "1  8bFej1QE5LXp4O05qjGqXA  RA4V8pr014UyUbDvI-LW2A  YoVfDbnISlW0f7abNQACIg   \n",
              "2  NDhkzczKjLshODbqDoNLSg  _sS2LBIGNT5NQb6PD1Vtjw  eC5evKn1TWDyHCyQAwguUw   \n",
              "3  T5fAqjjFooT4V0OeZyuk1w  0AzLzHfOJgL7ROwhdww2ew  SFQ1jcnGguO0LYWnbbftAA   \n",
              "4  sjm_uUcQVxab_EeLCqsYLg  8zehGz9jnxPqXtOc7KaJxA  0kA0PAJ8QFMeveQWHFqz2A   \n",
              "\n",
              "   stars  useful  funny  cool  \\\n",
              "0    4.0       3      1     1   \n",
              "1    4.0       1      0     0   \n",
              "2    5.0       0      0     0   \n",
              "3    2.0       1      1     1   \n",
              "4    4.0       0      0     0   \n",
              "\n",
              "                                                text                 date  \\\n",
              "0  Apparently Prides Osteria had a rough summer a...  2014-10-11 03:34:02   \n",
              "1  This store is pretty good. Not as great as Wal...  2015-07-03 20:38:25   \n",
              "2  I called WVM on the recommendation of a couple...  2013-05-28 20:38:06   \n",
              "3  I've stayed at many Marriott and Renaissance M...  2010-01-08 02:29:15   \n",
              "4  The food is always great here. The service fro...  2011-07-28 18:05:01   \n",
              "\n",
              "   year month      time  \n",
              "0  2014    10  03:34:02  \n",
              "1  2015    07  20:38:25  \n",
              "2  2013    05  20:38:06  \n",
              "3  2010    01  02:29:15  \n",
              "4  2011    07  18:05:01  "
            ]
          },
          "metadata": {
            "tags": []
          },
          "execution_count": 56
        }
      ]
    },
    {
      "cell_type": "code",
      "metadata": {
        "id": "yY3CCSx3FFLX"
      },
      "source": [
        "# Filtering for Restaurant/Food Reviews from 2015-2019\n",
        "\n",
        "restaurant_reviews['year'] = restaurant_reviews['year'].astype(int)\n",
        "restaurant_reviews = restaurant_reviews[restaurant_reviews['year'] >= 2015]\n",
        "\n",
        "# Overview of our Final Reviews Dataset, left with 415,038 rows of Data\n",
        "\n",
        "print(restaurant_reviews.shape)\n",
        "restaurant_reviews.head()"
      ],
      "execution_count": null,
      "outputs": []
    },
    {
      "cell_type": "code",
      "metadata": {
        "id": "8i3t4qieFHDR"
      },
      "source": [
        " Checking for Null Values\n",
        "\n",
        "restaurant_reviews.isnull().sum()"
      ],
      "execution_count": null,
      "outputs": []
    },
    {
      "cell_type": "code",
      "metadata": {
        "id": "5B4ya3BSFJOn"
      },
      "source": [
        ":\n",
        "# Importing User JSON File\n",
        "\n",
        "line_count = len(open(\"/content/drive/MyDrive/CF Project yelp/yelp_academic_dataset_user.json\").readlines())\n",
        "\n",
        "# Creating Columns for Dataframe\n",
        "\n",
        "users, names, review_counts, since, friends, useful, \\\n",
        "            funny, cool, n_fans, years_elite, average_stars = [], [], [], [], [], [], [], [], [], [], []\n",
        "\n",
        "# Iterating through each row of the json file\n",
        "\n",
        "with open(\"/content/drive/MyDrive/CF Project yelp/yelp_academic_dataset_user.json\") as f:\n",
        "    for line in tqdm(f, total=line_count):\n",
        "        blob = json.loads(line)\n",
        "        users += [blob[\"user_id\"]]\n",
        "        names += [blob[\"name\"]]\n",
        "        review_counts += [blob[\"review_count\"]]\n",
        "        since += [blob[\"yelping_since\"]]\n",
        "        friends += [blob[\"friends\"]]\n",
        "        useful += [blob[\"useful\"]]\n",
        "        funny += [blob[\"funny\"]]\n",
        "        cool += [blob[\"cool\"]]\n",
        "        n_fans += [blob[\"fans\"]]\n",
        "        average_stars += [blob[\"average_stars\"]]\n",
        "\n",
        "# Creating Dataframe for User json file\n",
        "\n",
        "users_df = pd.DataFrame(\n",
        "    {\"user_id\": users, \n",
        "     \"user_name\": names,\n",
        "     \"user_review_count\": review_counts,\n",
        "     \"user_yelp_since\": since,\n",
        "     \"friends\": friends,\n",
        "     \"useful_reviews\": useful,\n",
        "     \"funny_reviews\": funny,\n",
        "     \"cool_reviews\": cool,\n",
        "     \"n_fans\": n_fans,\n",
        "     \"average_stars\": average_stars\n",
        "    }\n",
        ")"
      ],
      "execution_count": null,
      "outputs": []
    }
  ]
}